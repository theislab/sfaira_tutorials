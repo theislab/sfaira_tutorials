{
 "cells": [
  {
   "cell_type": "code",
   "execution_count": 1,
   "id": "26d4b35d",
   "metadata": {},
   "outputs": [
    {
     "name": "stderr",
     "output_type": "stream",
     "text": [
      "* Owlready2 * Warning: optimized Cython parser module 'owlready2_optimized' is not available, defaulting to slower Python implementation\n",
      "2022-02-14 13:03:41.132379: W tensorflow/stream_executor/platform/default/dso_loader.cc:64] Could not load dynamic library 'libcudart.so.11.0'; dlerror: libcudart.so.11.0: cannot open shared object file: No such file or directory\n",
      "2022-02-14 13:03:41.132402: I tensorflow/stream_executor/cuda/cudart_stub.cc:29] Ignore above cudart dlerror if you do not have a GPU set up on your machine.\n"
     ]
    }
   ],
   "source": [
    "import sfaira\n",
    "import os"
   ]
  },
  {
   "cell_type": "code",
   "execution_count": 2,
   "id": "c7f03667",
   "metadata": {},
   "outputs": [],
   "source": [
    "cache_path = os.path.join(\".\", \"data\")\n",
    "store_path = os.path.join(\".\", \"data\", \"store\")"
   ]
  },
  {
   "cell_type": "markdown",
   "id": "b8622c31",
   "metadata": {},
   "source": [
    "# Download data"
   ]
  },
  {
   "cell_type": "markdown",
   "id": "085a95d3",
   "metadata": {},
   "source": [
    "See also the tutorial ./cellxgene_download.ipynb for a detailed explanation of the cellxgene download API."
   ]
  },
  {
   "cell_type": "code",
   "execution_count": 3,
   "id": "932daff5",
   "metadata": {},
   "outputs": [
    {
     "name": "stdout",
     "output_type": "stream",
     "text": [
      "Ontology <class 'sfaira.versions.metadata.base.OntologyUberonLifecyclestage'> is not a DAG, treat child-parent reasoning with care.\n",
      "Ontology <class 'sfaira.versions.metadata.base.OntologyMondo'> is not a DAG, treat child-parent reasoning with care.\n",
      "Ontology <class 'sfaira.versions.metadata.base.OntologyUberon'> is not a DAG, treat child-parent reasoning with care.\n"
     ]
    }
   ],
   "source": [
    "dsg = sfaira.data.dataloaders.databases.DatasetSuperGroupDatabases(data_path=cache_path, cache_metadata=True)"
   ]
  },
  {
   "cell_type": "code",
   "execution_count": 4,
   "id": "66cbe80c",
   "metadata": {},
   "outputs": [],
   "source": [
    "target_collections = [\"9c8808ce-1138-4dbe-818c-171cff10e650\"]"
   ]
  },
  {
   "cell_type": "code",
   "execution_count": 5,
   "id": "12ec269f",
   "metadata": {},
   "outputs": [],
   "source": [
    "dsg.subset(key=\"collection_id\", values=target_collections)"
   ]
  },
  {
   "cell_type": "code",
   "execution_count": 6,
   "id": "de207626",
   "metadata": {},
   "outputs": [],
   "source": [
    "dsg.download()"
   ]
  },
  {
   "cell_type": "code",
   "execution_count": 7,
   "id": "3e24b7f4",
   "metadata": {},
   "outputs": [
    {
     "name": "stdout",
     "output_type": "stream",
     "text": [
      "26ae14da-9e5f-4d18-abae-18a5a328feef\n",
      "\t ('cellxgene', 'Mus musculus', 'peripheral lymph node', \"10x 3' v2\", 'lymphadenitis (disease)')\n",
      "cfa3c355-ee77-4fc8-9a00-78e61d23024c\n",
      "\t ('cellxgene', 'Homo sapiens', 'cervical lymph node', \"10x 3' v2\", 'healthy')\n"
     ]
    }
   ],
   "source": [
    "dsg.show_summary()"
   ]
  },
  {
   "cell_type": "markdown",
   "id": "5862d78d",
   "metadata": {},
   "source": [
    "# Create store"
   ]
  },
  {
   "cell_type": "markdown",
   "id": "65f155a0",
   "metadata": {},
   "source": [
    "First, we streamline the data object to the desired format of the store.\n",
    "Second, we write the streamlined object to disk in the DAO format.\n",
    "We iterate over all objects in the dsg instance."
   ]
  },
  {
   "cell_type": "code",
   "execution_count": 8,
   "id": "10e78be0",
   "metadata": {},
   "outputs": [
    {
     "name": "stderr",
     "output_type": "stream",
     "text": [
      "/home/pc/.local/lib/python3.8/site-packages/scipy/sparse/_index.py:116: SparseEfficiencyWarning: Changing the sparsity structure of a csc_matrix is expensive. lil_matrix is more efficient.\n",
      "  self._set_arrayXarray_sparse(i, j, x)\n",
      "/home/pc/.local/lib/python3.8/site-packages/anndata/_core/anndata.py:120: ImplicitModificationWarning: Transforming to str index.\n",
      "  warnings.warn(\"Transforming to str index.\", ImplicitModificationWarning)\n",
      "WARNING:root:name and ontology keys are both missing\n"
     ]
    }
   ],
   "source": [
    "for k, ds in dsg.datasets.items():\n",
    "    if ds.adata is None:\n",
    "        ds.load(load_raw=False, allow_caching=True)\n",
    "    ds.streamline_features(\n",
    "        remove_gene_version=True,\n",
    "        match_to_release={\"Homo sapiens\": \"104\", \"Mus musculus\": \"104\"},\n",
    "        subset_genes_to_type=\"protein_coding\"\n",
    "    )\n",
    "    ds.streamline_metadata(\n",
    "        schema=\"sfaira\", clean_obs=True, clean_var=True, clean_uns=True, clean_obs_names=True\n",
    "    )\n",
    "    ds.write_distributed_store(\n",
    "        dir_cache=store_path, \n",
    "        store_format='dao', \n",
    "        dense=True, \n",
    "        chunks=128,\n",
    "        compression_kwargs={\"compressor\": \"default\", \"overwrite\": True, \"order\": \"C\"}\n",
    "    )"
   ]
  },
  {
   "cell_type": "markdown",
   "id": "04137c99",
   "metadata": {},
   "source": [
    "# Load store"
   ]
  },
  {
   "cell_type": "code",
   "execution_count": 9,
   "id": "69acf220",
   "metadata": {},
   "outputs": [],
   "source": [
    "obs_keys_to_load = [\"cell_type\"]"
   ]
  },
  {
   "cell_type": "code",
   "execution_count": 10,
   "id": "106585be",
   "metadata": {},
   "outputs": [],
   "source": [
    "data_stores = sfaira.data.load_store(cache_path=store_path, \n",
    "                                     store_format='dao', \n",
    "                                     columns=obs_keys_to_load)"
   ]
  },
  {
   "cell_type": "markdown",
   "id": "7ba9bd62",
   "metadata": {},
   "source": [
    "Let's select the Homo sapiens part of this store:"
   ]
  },
  {
   "cell_type": "code",
   "execution_count": 11,
   "id": "ac638064",
   "metadata": {},
   "outputs": [
    {
     "data": {
      "text/plain": [
       "{'Mus musculus': <sfaira.data.store.stores.single.StoreDao at 0x7fa1a238fd90>,\n",
       " 'Homo sapiens': <sfaira.data.store.stores.single.StoreDao at 0x7fa1a238f190>}"
      ]
     },
     "execution_count": 11,
     "metadata": {},
     "output_type": "execute_result"
    }
   ],
   "source": [
    "data_stores.stores"
   ]
  },
  {
   "cell_type": "code",
   "execution_count": 12,
   "id": "aef93b9e",
   "metadata": {},
   "outputs": [],
   "source": [
    "data_store = data_stores.stores['Homo sapiens']"
   ]
  },
  {
   "cell_type": "markdown",
   "id": "520ffae7",
   "metadata": {},
   "source": [
    "# Create a Cart"
   ]
  },
  {
   "cell_type": "code",
   "execution_count": 13,
   "id": "75798afb",
   "metadata": {},
   "outputs": [],
   "source": [
    "cart = data_store.checkout(obs_keys=obs_keys_to_load)"
   ]
  },
  {
   "cell_type": "code",
   "execution_count": 14,
   "id": "73e43cb8",
   "metadata": {},
   "outputs": [
    {
     "data": {
      "text/plain": [
       "(4355, 19357)"
      ]
     },
     "execution_count": 14,
     "metadata": {},
     "output_type": "execute_result"
    }
   ],
   "source": [
    "cart.x.shape"
   ]
  },
  {
   "cell_type": "markdown",
   "id": "211506f9",
   "metadata": {},
   "source": [
    "Note that the Cart only has the target obs keys now and leaves the remained of the .obs in the store on disk!"
   ]
  },
  {
   "cell_type": "code",
   "execution_count": 15,
   "id": "dde19066",
   "metadata": {},
   "outputs": [
    {
     "data": {
      "text/plain": [
       "(4355, 1)"
      ]
     },
     "execution_count": 15,
     "metadata": {},
     "output_type": "execute_result"
    }
   ],
   "source": [
    "cart.obs.shape"
   ]
  },
  {
   "cell_type": "code",
   "execution_count": 16,
   "id": "b090ad1e",
   "metadata": {},
   "outputs": [
    {
     "data": {
      "text/html": [
       "<div>\n",
       "<style scoped>\n",
       "    .dataframe tbody tr th:only-of-type {\n",
       "        vertical-align: middle;\n",
       "    }\n",
       "\n",
       "    .dataframe tbody tr th {\n",
       "        vertical-align: top;\n",
       "    }\n",
       "\n",
       "    .dataframe thead th {\n",
       "        text-align: right;\n",
       "    }\n",
       "</style>\n",
       "<table border=\"1\" class=\"dataframe\">\n",
       "  <thead>\n",
       "    <tr style=\"text-align: right;\">\n",
       "      <th></th>\n",
       "      <th>cell_type</th>\n",
       "    </tr>\n",
       "  </thead>\n",
       "  <tbody>\n",
       "    <tr>\n",
       "      <th>0</th>\n",
       "      <td>endothelial cell of lymphatic vessel</td>\n",
       "    </tr>\n",
       "    <tr>\n",
       "      <th>1</th>\n",
       "      <td>endothelial cell of lymphatic vessel</td>\n",
       "    </tr>\n",
       "    <tr>\n",
       "      <th>2</th>\n",
       "      <td>endothelial cell of lymphatic vessel</td>\n",
       "    </tr>\n",
       "    <tr>\n",
       "      <th>3</th>\n",
       "      <td>endothelial cell of lymphatic vessel</td>\n",
       "    </tr>\n",
       "    <tr>\n",
       "      <th>4</th>\n",
       "      <td>endothelial cell of lymphatic vessel</td>\n",
       "    </tr>\n",
       "  </tbody>\n",
       "</table>\n",
       "</div>"
      ],
      "text/plain": [
       "                              cell_type\n",
       "0  endothelial cell of lymphatic vessel\n",
       "1  endothelial cell of lymphatic vessel\n",
       "2  endothelial cell of lymphatic vessel\n",
       "3  endothelial cell of lymphatic vessel\n",
       "4  endothelial cell of lymphatic vessel"
      ]
     },
     "execution_count": 16,
     "metadata": {},
     "output_type": "execute_result"
    }
   ],
   "source": [
    "cart.obs.head()"
   ]
  },
  {
   "cell_type": "markdown",
   "id": "55cfce5f",
   "metadata": {},
   "source": [
    "# Create generators "
   ]
  },
  {
   "cell_type": "markdown",
   "id": "9e766050",
   "metadata": {},
   "source": [
    "Let's define a map_fn to define the output of generator:"
   ]
  },
  {
   "cell_type": "code",
   "execution_count": 17,
   "id": "5466a69e",
   "metadata": {},
   "outputs": [
    {
     "name": "stdout",
     "output_type": "stream",
     "text": [
      "time for precomputing ancestors: 13.703369140625\n"
     ]
    }
   ],
   "source": [
    "import numpy as np\n",
    "\n",
    "\n",
    "onto_cl = sfaira.consts.OCS.cell_type\n",
    "adata_ids = sfaira.consts.AdataIdsSfaira()\n",
    "\n",
    "leave_maps = onto_cl.prepare_maps_to_leaves(include_self=True)\n",
    "\n",
    "\n",
    "def encoder(x) -> np.ndarray:\n",
    "    if isinstance(x, str):\n",
    "        x = [x]\n",
    "    x = onto_cl.convert_to_id(x)\n",
    "    # Encodes unknowns to empty rows.\n",
    "    idx = [\n",
    "        leave_maps[y] if y not in [\n",
    "            adata_ids.unknown_metadata_identifier,\n",
    "            adata_ids.not_a_cell_celltype_identifier,\n",
    "        ] else np.array([])\n",
    "        for y in x\n",
    "    ]\n",
    "    oh = np.zeros((len(x), onto_cl.n_leaves,), dtype=\"float32\")\n",
    "    for i, y in enumerate(idx):\n",
    "        scale = len(y)\n",
    "        if scale > 0:\n",
    "            oh[i, y] = 1. / scale\n",
    "    return oh\n",
    "\n",
    "\n",
    "def map_fn(x_sample, obs_sample):\n",
    "    gene_expression = np.asarray(x_sample)\n",
    "    cell_type_label = encoder(obs_sample['cell_type'].values)\n",
    "    \n",
    "    return ((gene_expression, ), (cell_type_label))"
   ]
  },
  {
   "cell_type": "markdown",
   "id": "43a9954b",
   "metadata": {},
   "source": [
    "Next, we create a cart which is used to iterator over the dataset:"
   ]
  },
  {
   "cell_type": "code",
   "execution_count": 18,
   "id": "1baa4d1d",
   "metadata": {},
   "outputs": [],
   "source": [
    "g = data_store.checkout(\n",
    "    idx=None,  # specify from which idxs to sample from - None == sample from all indicies\n",
    "    # idx = np.arange(0, 100)  # idx can also be a np.ndarray \n",
    "    map_fn=map_fn, \n",
    "    obs_keys=['cell_type'],  # specify which obs keys you need\n",
    ")"
   ]
  },
  {
   "cell_type": "markdown",
   "id": "1db21f17",
   "metadata": {},
   "source": [
    "#### python generator\n",
    "\n",
    ".adaptor('python') returns a normal python generator\n"
   ]
  },
  {
   "cell_type": "code",
   "execution_count": 19,
   "id": "13130c8f",
   "metadata": {},
   "outputs": [
    {
     "data": {
      "text/plain": [
       "((array([0., 0., 1., ..., 0., 0., 0.], dtype=float32),),\n",
       " array([0., 0., 0., ..., 0., 0., 0.], dtype=float32))"
      ]
     },
     "execution_count": 19,
     "metadata": {},
     "output_type": "execute_result"
    }
   ],
   "source": [
    "gen_py = g.adaptor(\n",
    "    'python',\n",
    "    repeat=5,  # repeat data set 5 times until generator runs out of samples,\n",
    ")\n",
    "next(gen_py)"
   ]
  },
  {
   "cell_type": "markdown",
   "id": "5cfe3224",
   "metadata": {},
   "source": [
    "#### pytorch DataLoader\n",
    "\n",
    ".adapator('torch-iter-loader') returns pytorch DataLoader that can be used to fit pytorch models\n",
    "\n",
    "kwargs are passed through to the constructor of the DataLoader\n",
    "\n",
    "https://pytorch.org/docs/stable/data.html#torch.utils.data.DataLoader"
   ]
  },
  {
   "cell_type": "code",
   "execution_count": 20,
   "id": "1379352b",
   "metadata": {},
   "outputs": [
    {
     "data": {
      "text/plain": [
       "[[tensor([[0., 0., 1.,  ..., 0., 0., 0.],\n",
       "          [1., 0., 1.,  ..., 0., 0., 0.],\n",
       "          [0., 0., 0.,  ..., 0., 0., 0.],\n",
       "          ...,\n",
       "          [0., 0., 0.,  ..., 0., 0., 0.],\n",
       "          [0., 0., 0.,  ..., 0., 0., 0.],\n",
       "          [0., 0., 1.,  ..., 0., 0., 0.]])],\n",
       " tensor([[0., 0., 0.,  ..., 0., 0., 0.],\n",
       "         [0., 0., 0.,  ..., 0., 0., 0.],\n",
       "         [0., 0., 0.,  ..., 0., 0., 0.],\n",
       "         ...,\n",
       "         [0., 0., 0.,  ..., 0., 0., 0.],\n",
       "         [0., 0., 0.,  ..., 0., 0., 0.],\n",
       "         [0., 0., 0.,  ..., 0., 0., 0.]])]"
      ]
     },
     "execution_count": 20,
     "metadata": {},
     "output_type": "execute_result"
    }
   ],
   "source": [
    "gen_torch = g.adaptor('torch-iter-loader', batch_size=128, repeat=5)\n",
    "next(iter(gen_torch))"
   ]
  },
  {
   "cell_type": "markdown",
   "id": "6ba31492",
   "metadata": {},
   "source": [
    "#### tf.data.Dataset\n",
    "\n",
    ".adapator('tensorflow') returns a tf.data.Dataset that can be used to fit tensorflow models\n",
    "\n",
    "kwargs are passed through to the tf.data.Dataset.from_generator function\n",
    "\n",
    "https://www.tensorflow.org/api_docs/python/tf/data/Dataset"
   ]
  },
  {
   "cell_type": "code",
   "execution_count": 21,
   "id": "935a5eae",
   "metadata": {},
   "outputs": [
    {
     "name": "stderr",
     "output_type": "stream",
     "text": [
      "2022-02-14 13:06:32.241445: W tensorflow/stream_executor/platform/default/dso_loader.cc:64] Could not load dynamic library 'libcuda.so.1'; dlerror: libcuda.so.1: cannot open shared object file: No such file or directory\n",
      "2022-02-14 13:06:32.241484: W tensorflow/stream_executor/cuda/cuda_driver.cc:269] failed call to cuInit: UNKNOWN ERROR (303)\n",
      "2022-02-14 13:06:32.241513: I tensorflow/stream_executor/cuda/cuda_diagnostics.cc:156] kernel driver does not appear to be running on this host (pc): /proc/driver/nvidia/version does not exist\n",
      "2022-02-14 13:06:32.243037: I tensorflow/core/platform/cpu_feature_guard.cc:151] This TensorFlow binary is optimized with oneAPI Deep Neural Network Library (oneDNN) to use the following CPU instructions in performance-critical operations:  AVX2 FMA\n",
      "To enable them in other operations, rebuild TensorFlow with the appropriate compiler flags.\n"
     ]
    },
    {
     "data": {
      "text/plain": [
       "(<tf.Tensor: shape=(128, 1, 19357), dtype=float32, numpy=\n",
       " array([[[0., 0., 1., ..., 0., 0., 0.]],\n",
       " \n",
       "        [[1., 0., 1., ..., 0., 0., 0.]],\n",
       " \n",
       "        [[0., 0., 0., ..., 0., 0., 0.]],\n",
       " \n",
       "        ...,\n",
       " \n",
       "        [[0., 0., 0., ..., 0., 0., 0.]],\n",
       " \n",
       "        [[0., 0., 0., ..., 0., 0., 0.]],\n",
       " \n",
       "        [[0., 0., 1., ..., 0., 0., 0.]]], dtype=float32)>,\n",
       " <tf.Tensor: shape=(128, 1458), dtype=float32, numpy=\n",
       " array([[0., 0., 0., ..., 0., 0., 0.],\n",
       "        [0., 0., 0., ..., 0., 0., 0.],\n",
       "        [0., 0., 0., ..., 0., 0., 0.],\n",
       "        ...,\n",
       "        [0., 0., 0., ..., 0., 0., 0.],\n",
       "        [0., 0., 0., ..., 0., 0., 0.],\n",
       "        [0., 0., 0., ..., 0., 0., 0.]], dtype=float32)>)"
      ]
     },
     "execution_count": 21,
     "metadata": {},
     "output_type": "execute_result"
    }
   ],
   "source": [
    "import tensorflow as tf\n",
    "\n",
    "\n",
    "output_spec = (\n",
    "    (tf.TensorSpec(shape=(1, data_store.n_vars, ), dtype=tf.float32)),\n",
    "    (tf.TensorSpec(shape=(onto_cl.n_leaves, ), dtype=tf.float32))\n",
    ")\n",
    "\n",
    "gen_tf = g.adaptor('tensorflow', output_signature=output_spec, repeat=5).batch(128)\n",
    "\n",
    "next(iter(gen_tf))"
   ]
  },
  {
   "cell_type": "code",
   "execution_count": null,
   "id": "a96d1a9e",
   "metadata": {},
   "outputs": [],
   "source": []
  }
 ],
 "metadata": {
  "kernelspec": {
   "display_name": "Python 3 (ipykernel)",
   "language": "python",
   "name": "python3"
  },
  "language_info": {
   "codemirror_mode": {
    "name": "ipython",
    "version": 3
   },
   "file_extension": ".py",
   "mimetype": "text/x-python",
   "name": "python",
   "nbconvert_exporter": "python",
   "pygments_lexer": "ipython3",
   "version": "3.8.12"
  },
  "toc": {
   "base_numbering": 1,
   "nav_menu": {},
   "number_sections": true,
   "sideBar": true,
   "skip_h1_title": false,
   "title_cell": "Table of Contents",
   "title_sidebar": "Contents",
   "toc_cell": false,
   "toc_position": {},
   "toc_section_display": true,
   "toc_window_display": false
  }
 },
 "nbformat": 4,
 "nbformat_minor": 5
}
