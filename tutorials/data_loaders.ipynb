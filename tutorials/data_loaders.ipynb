{
 "cells": [
  {
   "cell_type": "markdown",
   "metadata": {},
   "source": [
    "# Dataloader Tutorial\n",
    "\n",
    "One of Sfaira's main features is easy access to publicly (or privately) contributed dataloaders. All loaded data comes in a common format allowing for homogeneous downstream analysis without fighting data sources.\n",
    "This tutorial will focuses on the usage of Sfaira dataloaders to access data."
   ]
  },
  {
   "cell_type": "code",
   "execution_count": 1,
   "metadata": {},
   "outputs": [
    {
     "name": "stderr",
     "output_type": "stream",
     "text": [
      "WARNING:root:name and ontology keys are both missing\n"
     ]
    },
    {
     "name": "stdout",
     "output_type": "stream",
     "text": [
      "Ontology <class 'sfaira.versions.metadata.base.OntologyMondo'> is not a DAG, treat child-parent reasoning with care.\n",
      "Ontology <class 'sfaira.versions.metadata.base.OntologyUberon'> is not a DAG, treat child-parent reasoning with care.\n"
     ]
    }
   ],
   "source": [
    "import sfaira\n",
    "import os\n",
    "\n",
    "# Set this path to your local sfaira data repository\n",
    "basedir = '.'\n",
    "datadir = os.path.join(basedir, 'raw')\n",
    "metadir = os.path.join(basedir, 'meta')\n",
    "cachedir = os.path.join(basedir, 'cache')"
   ]
  },
  {
   "cell_type": "markdown",
   "metadata": {},
   "source": [
    "# Load all data sets from an organ"
   ]
  },
  {
   "cell_type": "code",
   "execution_count": 3,
   "metadata": {},
   "outputs": [
    {
     "name": "stdout",
     "output_type": "stream",
     "text": [
      "loading mouse_pancreas_2019_10xsequencing_pisco_028_10.1101/661728\n",
      "loading mouse_pancreas_2019_smartseq2_pisco_029_10.1101/661728\n",
      "loading mouse_pancreas_2019_10xsequencing_thompson_001_10.1016/j.cmet.2019.01.021\n",
      "loading mouse_pancreas_2019_10xsequencing_thompson_002_10.1016/j.cmet.2019.01.021\n",
      "loading mouse_pancreas_2019_10xsequencing_thompson_003_10.1016/j.cmet.2019.01.021\n",
      "loading mouse_pancreas_2019_10xsequencing_thompson_004_10.1016/j.cmet.2019.01.021\n",
      "loading mouse_pancreas_2019_10xsequencing_thompson_005_10.1016/j.cmet.2019.01.021\n",
      "loading mouse_pancreas_2019_10xsequencing_thompson_006_10.1016/j.cmet.2019.01.021\n",
      "loading mouse_pancreas_2019_10xsequencing_thompson_007_10.1016/j.cmet.2019.01.021\n",
      "loading mouse_pancreas_2019_10xsequencing_thompson_008_10.1016/j.cmet.2019.01.021\n",
      "loading mouse_pancreas_2018_microwellseq_han_016_10.1016/j.cell.2018.02.001\n",
      "loading mouse_pancreas_2018_microwellseq_han_045_10.1016/j.cell.2018.02.001\n"
     ]
    },
    {
     "name": "stderr",
     "output_type": "stream",
     "text": [
      "/opt/python/lib/python3.8/site-packages/scipy/sparse/_index.py:116: SparseEfficiencyWarning: Changing the sparsity structure of a csc_matrix is expensive. lil_matrix is more efficient.\n",
      "  self._set_arrayXarray_sparse(i, j, x)\n",
      "Variable names are not unique. To make them unique, call `.var_names_make_unique`.\n",
      "Variable names are not unique. To make them unique, call `.var_names_make_unique`.\n",
      "/home/leander.dony/.local/lib/python3.8/site-packages/anndata/_core/anndata.py:120: ImplicitModificationWarning: Transforming to str index.\n",
      "  warnings.warn(\"Transforming to str index.\", ImplicitModificationWarning)\n",
      "Variable names are not unique. To make them unique, call `.var_names_make_unique`.\n",
      "Variable names are not unique. To make them unique, call `.var_names_make_unique`.\n"
     ]
    },
    {
     "name": "stdout",
     "output_type": "stream",
     "text": [
      "AnnData object with n_obs × n_vars = 50776 × 21936\n",
      "    obs: 'development_stage', 'sex', 'cell_ontology_class', 'cell_ontology_id', 'cell_types_original', 'dataset'\n",
      "    var: 'ensembl', 'names'\n",
      "    uns: 'mapped_features'\n"
     ]
    }
   ],
   "source": [
    "# Here we choose mouse pancreas:\n",
    "# The DatasetGroupPancreas contains instances of Dataset which correspond to individual data sets.\n",
    "ds = sfaira.data.Universe(data_path=datadir, meta_path=metadir, cache_path=cachedir)  # This links all data sets available\n",
    "ds.subset(key=\"organism\", values=[\"mouse\"])  # Subset to all mouse datasets\n",
    "ds.subset(key=\"organ\", values=[\"pancreas\"])  # Subset further to pancreas organ\n",
    "ds.load()  # This loads the anndata objects into memory\n",
    "ds.streamline_features(match_to_reference={\"human\": \"Homo_sapiens.GRCh38.102\", \"mouse\": \"Mus_musculus.GRCm38.102\"}, subset_genes_to_type=\"protein_coding\")  # Choose a reference genome and subset to only protein-coding genes\n",
    "ds.streamline_metadata(schema=\"sfaira\")  # make sure the metadata annotation of all datasets are in line with the sfaira schema, so they can be cleanly concatenated in the next step\n",
    "print(ds.adata) # Use the adata object for your analysis or modelling."
   ]
  },
  {
   "cell_type": "markdown",
   "metadata": {},
   "source": [
    "# Load selected datasets for one organ"
   ]
  },
  {
   "cell_type": "code",
   "execution_count": 4,
   "metadata": {},
   "outputs": [
    {
     "data": {
      "text/plain": [
       "['mouse_pancreas_2019_10xsequencing_pisco_028_10.1101/661728',\n",
       " 'mouse_pancreas_2019_smartseq2_pisco_029_10.1101/661728',\n",
       " 'mouse_pancreas_2019_10xsequencing_thompson_001_10.1016/j.cmet.2019.01.021',\n",
       " 'mouse_pancreas_2019_10xsequencing_thompson_002_10.1016/j.cmet.2019.01.021',\n",
       " 'mouse_pancreas_2019_10xsequencing_thompson_003_10.1016/j.cmet.2019.01.021',\n",
       " 'mouse_pancreas_2019_10xsequencing_thompson_004_10.1016/j.cmet.2019.01.021',\n",
       " 'mouse_pancreas_2019_10xsequencing_thompson_005_10.1016/j.cmet.2019.01.021',\n",
       " 'mouse_pancreas_2019_10xsequencing_thompson_006_10.1016/j.cmet.2019.01.021',\n",
       " 'mouse_pancreas_2019_10xsequencing_thompson_007_10.1016/j.cmet.2019.01.021',\n",
       " 'mouse_pancreas_2019_10xsequencing_thompson_008_10.1016/j.cmet.2019.01.021',\n",
       " 'mouse_pancreas_2018_microwellseq_han_016_10.1016/j.cell.2018.02.001',\n",
       " 'mouse_pancreas_2018_microwellseq_han_045_10.1016/j.cell.2018.02.001']"
      ]
     },
     "execution_count": 4,
     "metadata": {},
     "output_type": "execute_result"
    }
   ],
   "source": [
    "ds = sfaira.data.Universe(data_path=datadir, meta_path=metadir, cache_path=cachedir)\n",
    "ds.subset(key=\"organism\", values=[\"mouse\"])  # subsets all pancreas data sets\n",
    "ds.subset(key=\"organ\", values=[\"pancreas\"])  # subsets all pancreas data sets\n",
    "ds.ids  # Display the datasets remaining following subsetting"
   ]
  },
  {
   "cell_type": "code",
   "execution_count": 5,
   "metadata": {},
   "outputs": [
    {
     "data": {
      "text/plain": [
       "True"
      ]
     },
     "execution_count": 5,
     "metadata": {},
     "output_type": "execute_result"
    }
   ],
   "source": [
    "# pick a specific dataset and check if it has celltype annotations (in case that matters to you)\n",
    "ds.datasets['mouse_pancreas_2019_10xsequencing_thompson_004_10.1016/j.cmet.2019.01.021'].annotated"
   ]
  },
  {
   "cell_type": "code",
   "execution_count": 6,
   "metadata": {},
   "outputs": [
    {
     "name": "stdout",
     "output_type": "stream",
     "text": [
      "AnnData object with n_obs × n_vars = 3701 × 27998\n",
      "    obs: 'celltypes'\n",
      "    var: 'ensembl', 'names'\n"
     ]
    }
   ],
   "source": [
    "# load the specific dataset\n",
    "ds.datasets['mouse_pancreas_2019_10xsequencing_thompson_004_10.1016/j.cmet.2019.01.021'].load()\n",
    "\n",
    "# get the unmodified adata object of the dataset\n",
    "adata = ds.datasets['mouse_pancreas_2019_10xsequencing_thompson_004_10.1016/j.cmet.2019.01.021'].adata\n",
    "print(adata)"
   ]
  },
  {
   "cell_type": "code",
   "execution_count": 7,
   "metadata": {},
   "outputs": [
    {
     "name": "stdout",
     "output_type": "stream",
     "text": [
      "AnnData object with n_obs × n_vars = 3701 × 21936\n",
      "    obs: 'cell_ontology_class', 'cell_ontology_id', 'cell_types_original'\n",
      "    var: 'ensembl', 'names'\n",
      "    uns: 'annotated', 'author', 'default_embedding', 'doi', 'download_url_data', 'download_url_meta', 'id', 'mapped_features', 'ncells', 'normalization', 'primary_data', 'title', 'year', 'load_raw', 'remove_gene_version', 'assay_sc', 'assay_differentiation', 'assay_type_differentiation', 'bio_sample', 'cell_line', 'development_stage', 'disease', 'ethnicity', 'individual', 'organ', 'organism', 'sex', 'state_exact', 'sample_source', 'tech_sample'\n"
     ]
    }
   ],
   "source": [
    "ds.datasets['mouse_pancreas_2019_10xsequencing_thompson_004_10.1016/j.cmet.2019.01.021'].streamline_features(match_to_reference={\"human\": \"Homo_sapiens.GRCh38.102\", \"mouse\": \"Mus_musculus.GRCm38.102\"}, subset_genes_to_type=\"protein_coding\")  # match the feature space to a reference annotation\n",
    "ds.datasets['mouse_pancreas_2019_10xsequencing_thompson_004_10.1016/j.cmet.2019.01.021'].streamline_metadata(schema=\"sfaira\")  # convert the metadata annotation to the sfaira standard\n",
    "adata = ds.datasets['mouse_pancreas_2019_10xsequencing_thompson_004_10.1016/j.cmet.2019.01.021'].adata  # get the steramlined adata object of the selected dataset\n",
    "print(adata)"
   ]
  },
  {
   "cell_type": "markdown",
   "metadata": {},
   "source": [
    "# Creating streamlined cross-organ datasets"
   ]
  },
  {
   "cell_type": "code",
   "execution_count": 8,
   "metadata": {},
   "outputs": [
    {
     "name": "stdout",
     "output_type": "stream",
     "text": [
      "loading mouse_liver_2019_10xsequencing_pisco_020_10.1101/661728\n",
      "loading mouse_liver_2019_smartseq2_pisco_021_10.1101/661728\n",
      "loading mouse_lung_2019_10xsequencing_pisco_022_10.1101/661728\n",
      "loading mouse_lung_2019_smartseq2_pisco_023_10.1101/661728\n",
      "loading mouse_liver_2018_microwellseq_han_013_10.1016/j.cell.2018.02.001\n",
      "loading mouse_lung_2018_microwellseq_han_014_10.1016/j.cell.2018.02.001\n",
      "loading mouse_liver_2018_microwellseq_han_020_10.1016/j.cell.2018.02.001\n",
      "loading mouse_liver_2018_microwellseq_han_021_10.1016/j.cell.2018.02.001\n",
      "loading mouse_lung_2018_microwellseq_han_022_10.1016/j.cell.2018.02.001\n",
      "loading mouse_lung_2018_microwellseq_han_023_10.1016/j.cell.2018.02.001\n",
      "loading mouse_lung_2018_microwellseq_han_024_10.1016/j.cell.2018.02.001\n"
     ]
    },
    {
     "name": "stderr",
     "output_type": "stream",
     "text": [
      "Variable names are not unique. To make them unique, call `.var_names_make_unique`.\n",
      "Variable names are not unique. To make them unique, call `.var_names_make_unique`.\n",
      "Variable names are not unique. To make them unique, call `.var_names_make_unique`.\n",
      "Variable names are not unique. To make them unique, call `.var_names_make_unique`.\n",
      "Variable names are not unique. To make them unique, call `.var_names_make_unique`.\n",
      "Variable names are not unique. To make them unique, call `.var_names_make_unique`.\n",
      "Variable names are not unique. To make them unique, call `.var_names_make_unique`.\n",
      "Variable names are not unique. To make them unique, call `.var_names_make_unique`.\n",
      "Variable names are not unique. To make them unique, call `.var_names_make_unique`.\n",
      "Variable names are not unique. To make them unique, call `.var_names_make_unique`.\n",
      "Variable names are not unique. To make them unique, call `.var_names_make_unique`.\n"
     ]
    },
    {
     "name": "stdout",
     "output_type": "stream",
     "text": [
      "AnnData object with n_obs × n_vars = 60688 × 21936\n",
      "    obs: 'development_stage', 'sex', 'cell_ontology_class', 'cell_ontology_id', 'cell_types_original', 'dataset'\n",
      "    var: 'ensembl', 'names'\n",
      "    uns: 'mapped_features'\n"
     ]
    }
   ],
   "source": [
    "ds = sfaira.data.Universe(data_path=datadir, meta_path=metadir, cache_path=cachedir)  # This links all data sets available\n",
    "ds.subset(key=\"organism\", values=[\"mouse\"])  # subset to mouse datasets\n",
    "ds.subset(key=\"organ\", values=[\"lung\", \"liver\"])  # subset further to liver and lung data sets\n",
    "ds.load()  # This loads the anndata objects into memory\n",
    "ds.streamline_features(match_to_reference={\"human\": \"Homo_sapiens.GRCh38.102\", \"mouse\": \"Mus_musculus.GRCm38.102\"}, subset_genes_to_type=\"protein_coding\")  # Choose a reference genome and subset to only protein-coding genes\n",
    "ds.streamline_metadata(schema=\"sfaira\")  # make sure the metadata annotation of all datasets are in line with the sfaira schema, so they can be cleanly concatenated in the next step\n",
    "print(ds.adata) # Use the adata object for your analysis or modelling."
   ]
  }
 ],
 "metadata": {
  "kernelspec": {
   "display_name": "Python 3",
   "language": "python",
   "name": "python3"
  },
  "language_info": {
   "codemirror_mode": {
    "name": "ipython",
    "version": 3
   },
   "file_extension": ".py",
   "mimetype": "text/x-python",
   "name": "python",
   "nbconvert_exporter": "python",
   "pygments_lexer": "ipython3",
   "version": "3.7.7"
  },
  "toc": {
   "base_numbering": 1,
   "nav_menu": {},
   "number_sections": true,
   "sideBar": true,
   "skip_h1_title": false,
   "title_cell": "Table of Contents",
   "title_sidebar": "Contents",
   "toc_cell": false,
   "toc_position": {},
   "toc_section_display": true,
   "toc_window_display": false
  }
 },
 "nbformat": 4,
 "nbformat_minor": 4
}
