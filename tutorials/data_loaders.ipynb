{
 "cells": [
  {
   "cell_type": "markdown",
   "metadata": {},
   "source": [
    "Note: This tutorial has been tested with sfaira version 0.3.11"
   ]
  },
  {
   "cell_type": "markdown",
   "metadata": {},
   "source": [
    "# Dataloader Tutorial\n",
    "\n",
    "One of Sfaira's main features is easy access to publicly (or privately) contributed dataloaders. All loaded data comes in a common format allowing for homogeneous downstream analysis without fighting data sources.\n",
    "This tutorial will focuses on the usage of Sfaira dataloaders to access data."
   ]
  },
  {
   "cell_type": "code",
   "execution_count": 1,
   "metadata": {},
   "outputs": [],
   "source": [
    "import sfaira\n",
    "import os\n",
    "\n",
    "# Set this path to your local sfaira data repository\n",
    "basedir = '.'\n",
    "datadir = os.path.join(basedir, 'raw')\n",
    "metadir = os.path.join(basedir, 'meta')\n",
    "cachedir = os.path.join(basedir, 'cache')"
   ]
  },
  {
   "cell_type": "markdown",
   "metadata": {},
   "source": [
    "# Load all data sets from an organ"
   ]
  },
  {
   "cell_type": "code",
   "execution_count": 2,
   "metadata": {},
   "outputs": [
    {
     "name": "stdout",
     "output_type": "stream",
     "text": [
      "Ontology <class 'sfaira.versions.metadata.base.OntologyMondo'> is not a DAG, treat child-parent reasoning with care.\n",
      "Ontology <class 'sfaira.versions.metadata.base.OntologyUberon'> is not a DAG, treat child-parent reasoning with care.\n",
      "Ontology <class 'sfaira.versions.metadata.base.OntologyUberonLifecyclestage'> is not a DAG, treat child-parent reasoning with care.\n",
      "Downloading: menon19.processed.h5ad\n",
      "Downloading: voigt19.processed.h5ad\n",
      "Downloading: lukowski19.processed.h5ad\n",
      "loading homosapiens_retina_2019_10x3v3_menon_001_10.1038/s41467-019-12780-8\n",
      "loading homosapiens_retina_2019_10x3v3_voigt_001_10.1073/pnas.1914143116\n",
      "loading homosapiens_retina_2019_10x3v2_lukowski_001_10.15252/embj.2018100811\n"
     ]
    },
    {
     "name": "stderr",
     "output_type": "stream",
     "text": [
      "/opt/python/lib/python3.8/site-packages/scipy/sparse/_index.py:116: SparseEfficiencyWarning: Changing the sparsity structure of a csc_matrix is expensive. lil_matrix is more efficient.\n",
      "  self._set_arrayXarray_sparse(i, j, x)\n",
      "Variable names are not unique. To make them unique, call `.var_names_make_unique`.\n",
      "Variable names are not unique. To make them unique, call `.var_names_make_unique`.\n",
      "Variable names are not unique. To make them unique, call `.var_names_make_unique`.\n",
      "WARNING:root:name and ontology keys are both missing\n"
     ]
    },
    {
     "name": "stdout",
     "output_type": "stream",
     "text": [
      "AnnData object with n_obs × n_vars = 44120 × 19966\n",
      "    obs: 'assay_sc', 'assay_differentiation', 'assay_type_differentiation', 'bio_sample', 'cell_line', 'development_stage', 'disease', 'ethnicity', 'id', 'individual', 'organ', 'organism', 'sex', 'state_exact', 'sample_source', 'tech_sample', 'assay_sc_ontology_term_id', 'cell_line_ontology_term_id', 'cell_type', 'cell_type_ontology_term_id', 'development_stage_ontology_term_id', 'disease_ontology_term_id', 'ethnicity_ontology_term_id', 'organ_ontology_term_id', 'organism_ontology_term_id', 'sex_ontology_term_id', 'dataset'\n",
      "    var: 'ensembl', 'gene_symbol'\n",
      "    uns: 'year', 'default_embedding', 'doi_journal', 'author', 'remove_gene_version', 'ethnicity', 'cell_line', 'download_url_data', 'state_exact', 'title', 'cell_type', 'assay_differentiation', 'primary_data', 'assay_type_differentiation', 'mapped_features', 'load_raw', 'id', 'organism', 'sample_source', 'normalization', 'download_url_meta', 'sex', 'disease', 'development_stage', 'organ', 'doi_preprint', 'annotated', 'assay_sc'\n"
     ]
    }
   ],
   "source": [
    "# Here we choose human eye:\n",
    "# The DatasetGroupPancreas contains instances of Dataset which correspond to individual data sets.\n",
    "ds = sfaira.data.Universe(data_path=datadir, meta_path=metadir, cache_path=cachedir)  # This links all data sets available\n",
    "ds.subset(key=\"organism\", values=[\"Homo sapiens\"])  # Subset to all human datasets\n",
    "ds.subset(key=\"organ\", values=[\"eye\"])  # Subset further to eye organ\n",
    "ds.download() # Download the selected datasets to your local sfaira data repository\n",
    "ds.load(verbose=1)  # This loads the anndata objects into memory\n",
    "ds.streamline_features(match_to_release=\"104\", subset_genes_to_type=\"protein_coding\")  # Choose a reference genome by ensembl release and subset to only protein-coding genes\n",
    "ds.streamline_metadata(schema=\"sfaira\")  # make sure the metadata annotation of all datasets are in line with the sfaira schema, so they can be cleanly concatenated in the next step\n",
    "print(ds.adata) # Use the adata object for your analysis or modelling."
   ]
  },
  {
   "cell_type": "markdown",
   "metadata": {},
   "source": [
    "# Load selected datasets for one organ"
   ]
  },
  {
   "cell_type": "code",
   "execution_count": 3,
   "metadata": {},
   "outputs": [
    {
     "data": {
      "text/plain": [
       "['homosapiens_lung_2020_10x3v2_miller_001_10.1016/j.devcel.2020.01.033',\n",
       " 'homosapiens_lungparenchyma_2019_10x3transcriptionprofiling_braga_001_10.1038/s41591-019-0468-5',\n",
       " 'homosapiens_lung_2019_dropseq_braga_001_10.1038/s41591-019-0468-5',\n",
       " 'homosapiens_lungparenchyma_2020_None_habermann_001_10.1126/sciadv.aba1972',\n",
       " 'homosapiens_lung_2019_10x3transcriptionprofiling_szabo_001_10.1038/s41467-019-12464-3',\n",
       " 'homosapiens_lung_2019_10x3transcriptionprofiling_szabo_002_10.1038/s41467-019-12464-3',\n",
       " 'homosapiens_lung_2019_10x3transcriptionprofiling_szabo_007_10.1038/s41467-019-12464-3',\n",
       " 'homosapiens_lung_2019_10x3transcriptionprofiling_szabo_008_10.1038/s41467-019-12464-3',\n",
       " 'homosapiens_lungparenchyma_2019_10x3v2_madissoon_001_10.1186/s13059-019-1906-x',\n",
       " 'homosapiens_lung_2020_10x3v2_lukassen_001_10.15252/embj.20105114',\n",
       " 'homosapiens_lung_2020_10x3v2_lukassen_002_10.15252/embj.20105114',\n",
       " 'homosapiens_lung_2020_10x3v2_travaglini_001_10.1038/s41586-020-2922-4',\n",
       " 'homosapiens_lung_2020_smartseq2_travaglini_002_10.1038/s41586-020-2922-4',\n",
       " 'homosapiens_lung_2018_10x3v2_reyfmanpaula_001_10.1164/rccm.201712-2410OC',\n",
       " 'homosapiens_lung_2018_10x3v2_reyfmanpaula_002_10.1164/rccm.201712-2410OC',\n",
       " 'homosapiens_lung_2018_10x3v2_reyfmanpaula_003_10.1164/rccm.201712-2410OC',\n",
       " 'homosapiens_lung_2018_10x3v2_reyfmanpaula_004_10.1164/rccm.201712-2410OC',\n",
       " 'homosapiens_lung_2018_10x3v2_reyfmanpaula_005_10.1164/rccm.201712-2410OC',\n",
       " 'homosapiens_lung_2018_10x3v2_reyfmanpaula_006_10.1164/rccm.201712-2410OC',\n",
       " 'homosapiens_lung_2018_10x3v2_reyfmanpaula_007_10.1164/rccm.201712-2410OC',\n",
       " 'homosapiens_lung_2018_10x3v2_reyfmanpaula_008_10.1164/rccm.201712-2410OC',\n",
       " 'homosapiens_lung_2018_10x3v2_reyfmanpaula_009_10.1164/rccm.201712-2410OC',\n",
       " 'homosapiens_lung_2018_10x3v2_reyfmanpaula_010_10.1164/rccm.201712-2410OC',\n",
       " 'homosapiens_lung_2018_10x3v2_reyfmanpaula_011_10.1164/rccm.201712-2410OC',\n",
       " 'homosapiens_lung_2018_10x3v2_reyfmanpaula_012_10.1164/rccm.201712-2410OC',\n",
       " 'homosapiens_lung_2018_10x3v2_reyfmanpaula_013_10.1164/rccm.201712-2410OC',\n",
       " 'homosapiens_lung_2018_10x3v2_reyfmanpaula_014_10.1164/rccm.201712-2410OC',\n",
       " 'homosapiens_lung_2018_10x3v2_reyfmanpaula_015_10.1164/rccm.201712-2410OC',\n",
       " 'homosapiens_lung_2018_10x3v2_reyfmanpaula_016_10.1164/rccm.201712-2410OC',\n",
       " 'homosapiens_lung_2018_10x3v2_reyfmanpaula_017_10.1164/rccm.201712-2410OC']"
      ]
     },
     "execution_count": 3,
     "metadata": {},
     "output_type": "execute_result"
    }
   ],
   "source": [
    "ds = sfaira.data.Universe(data_path=datadir, meta_path=metadir, cache_path=cachedir)\n",
    "ds.subset(key=\"organism\", values=[\"Homo sapiens\"])  # subsets all human data sets\n",
    "ds.subset(key=\"organ\", values=[\"lung\"])  # subsets all lung data sets\n",
    "ds.ids  # Display the datasets remaining following subsetting"
   ]
  },
  {
   "cell_type": "code",
   "execution_count": 4,
   "metadata": {},
   "outputs": [
    {
     "data": {
      "text/plain": [
       "True"
      ]
     },
     "execution_count": 4,
     "metadata": {},
     "output_type": "execute_result"
    }
   ],
   "source": [
    "# pick a specific dataset and check if it has celltype annotations (in case that matters to you)\n",
    "ds.datasets['homosapiens_lungparenchyma_2019_10x3v2_madissoon_001_10.1186/s13059-019-1906-x'].annotated"
   ]
  },
  {
   "cell_type": "code",
   "execution_count": 5,
   "metadata": {},
   "outputs": [
    {
     "name": "stdout",
     "output_type": "stream",
     "text": [
      "Downloading: madissoon19_lung.processed.h5ad\n",
      "loading homosapiens_lungparenchyma_2019_10x3v2_madissoon_001_10.1186/s13059-019-1906-x\n",
      "AnnData object with n_obs × n_vars = 57020 × 25204\n",
      "    obs: 'Donor', 'Time', 'donor_time', 'leiden', 'patient', 'sample', 'Celltypes'\n",
      "    var: 'gene.ids.HCATisStab7509734', 'gene.ids.HCATisStab7509735', 'gene.ids.HCATisStab7509736', 'gene.ids.HCATisStab7587202', 'gene.ids.HCATisStab7587205', 'gene.ids.HCATisStab7587208', 'gene.ids.HCATisStab7587211', 'gene.ids.HCATisStab7646032', 'gene.ids.HCATisStab7646033', 'gene.ids.HCATisStab7646034', 'gene.ids.HCATisStab7646035', 'gene.ids.HCATisStab7659968', 'gene.ids.HCATisStab7659969', 'gene.ids.HCATisStab7659970', 'gene.ids.HCATisStab7659971', 'gene.ids.HCATisStab7747197', 'gene.ids.HCATisStab7747198', 'gene.ids.HCATisStab7747199', 'gene.ids.HCATisStab7747200', 'n.cells'\n",
      "    obsm: 'X_pca', 'X_tsne', 'X_umap'\n"
     ]
    }
   ],
   "source": [
    "# subset to the selected dataset\n",
    "ds.subset(key=\"id\", values=[\"homosapiens_lungparenchyma_2019_10x3v2_madissoon_001_10.1186/s13059-019-1906-x\"])  # subsets all lung data sets\n",
    "\n",
    "# download and load the specific dataset\n",
    "ds.download()\n",
    "ds.load(verbose=1)\n",
    "\n",
    "# get the unmodified adata object of the dataset\n",
    "adata = ds.datasets['homosapiens_lungparenchyma_2019_10x3v2_madissoon_001_10.1186/s13059-019-1906-x'].adata\n",
    "print(adata)"
   ]
  },
  {
   "cell_type": "code",
   "execution_count": 6,
   "metadata": {},
   "outputs": [
    {
     "name": "stderr",
     "output_type": "stream",
     "text": [
      "Variable names are not unique. To make them unique, call `.var_names_make_unique`.\n"
     ]
    },
    {
     "name": "stdout",
     "output_type": "stream",
     "text": [
      "AnnData object with n_obs × n_vars = 57020 × 19966\n",
      "    obs: 'assay_sc', 'assay_differentiation', 'assay_type_differentiation', 'bio_sample', 'cell_line', 'development_stage', 'disease', 'ethnicity', 'id', 'individual', 'organ', 'organism', 'sex', 'state_exact', 'sample_source', 'tech_sample', 'assay_sc_ontology_term_id', 'cell_line_ontology_term_id', 'cell_type', 'cell_type_ontology_term_id', 'development_stage_ontology_term_id', 'disease_ontology_term_id', 'ethnicity_ontology_term_id', 'organ_ontology_term_id', 'organism_ontology_term_id', 'sex_ontology_term_id'\n",
      "    var: 'ensembl', 'gene_symbol'\n",
      "    uns: 'annotated', 'author', 'default_embedding', 'doi_journal', 'doi_preprint', 'download_url_data', 'download_url_meta', 'normalization', 'primary_data', 'title', 'year', 'load_raw', 'mapped_features', 'remove_gene_version', 'assay_sc', 'assay_differentiation', 'assay_type_differentiation', 'cell_line', 'cell_type', 'development_stage', 'disease', 'ethnicity', 'id', 'organ', 'organism', 'sex', 'state_exact', 'sample_source'\n"
     ]
    }
   ],
   "source": [
    "ds.datasets['homosapiens_lungparenchyma_2019_10x3v2_madissoon_001_10.1186/s13059-019-1906-x'].streamline_features(match_to_release=\"104\", subset_genes_to_type=\"protein_coding\")  # match the feature space to a reference annotation\n",
    "ds.datasets['homosapiens_lungparenchyma_2019_10x3v2_madissoon_001_10.1186/s13059-019-1906-x'].streamline_metadata(schema=\"sfaira\")  # convert the metadata annotation to the sfaira standard\n",
    "adata = ds.datasets['homosapiens_lungparenchyma_2019_10x3v2_madissoon_001_10.1186/s13059-019-1906-x'].adata  # get the steramlined adata object of the selected dataset\n",
    "print(adata)"
   ]
  },
  {
   "cell_type": "markdown",
   "metadata": {},
   "source": [
    "# Creating streamlined cross-organ datasets"
   ]
  },
  {
   "cell_type": "code",
   "execution_count": 7,
   "metadata": {
    "scrolled": true
   },
   "outputs": [
    {
     "name": "stdout",
     "output_type": "stream",
     "text": [
      "Downloading: tabula-muris-senis-droplet-processed-official-annotations-Liver.h5ad\n",
      "Downloading: tabula-muris-senis-facs-processed-official-annotations-Liver.h5ad\n",
      "Downloading: tabula-muris-senis-droplet-processed-official-annotations-Lung.h5ad\n",
      "Downloading: tabula-muris-senis-facs-processed-official-annotations-Lung.h5ad\n",
      "Downloading: 5435866.zip\n",
      "loading musmusculus_liver_2019_10x3v2_pisco_020_10.1038/s41586-020-2496-1\n"
     ]
    },
    {
     "name": "stderr",
     "output_type": "stream",
     "text": [
      "/home/leander.dony/.local/lib/python3.8/site-packages/anndata/compat/__init__.py:180: FutureWarning: Moving element from .uns['neighbors']['distances'] to .obsp['distances'].\n",
      "\n",
      "This is where adjacency matrices should go now.\n",
      "  warn(\n",
      "/home/leander.dony/.local/lib/python3.8/site-packages/anndata/compat/__init__.py:180: FutureWarning: Moving element from .uns['neighbors']['connectivities'] to .obsp['connectivities'].\n",
      "\n",
      "This is where adjacency matrices should go now.\n",
      "  warn(\n",
      "... storing 'development_stage' as categorical\n"
     ]
    },
    {
     "name": "stdout",
     "output_type": "stream",
     "text": [
      "loading musmusculus_liver_2019_smartseq2_pisco_021_10.1038/s41586-020-2496-1\n"
     ]
    },
    {
     "name": "stderr",
     "output_type": "stream",
     "text": [
      "... storing 'development_stage' as categorical\n"
     ]
    },
    {
     "name": "stdout",
     "output_type": "stream",
     "text": [
      "loading musmusculus_lung_2019_10x3v2_pisco_022_10.1038/s41586-020-2496-1\n"
     ]
    },
    {
     "name": "stderr",
     "output_type": "stream",
     "text": [
      "... storing 'development_stage' as categorical\n"
     ]
    },
    {
     "name": "stdout",
     "output_type": "stream",
     "text": [
      "loading musmusculus_lung_2019_smartseq2_pisco_023_10.1038/s41586-020-2496-1\n"
     ]
    },
    {
     "name": "stderr",
     "output_type": "stream",
     "text": [
      "... storing 'development_stage' as categorical\n"
     ]
    },
    {
     "name": "stdout",
     "output_type": "stream",
     "text": [
      "loading musmusculus_liver_2018_microwellseq_han_013_10.1016/j.cell.2018.02.001\n"
     ]
    },
    {
     "name": "stderr",
     "output_type": "stream",
     "text": [
      "... storing 'ClusterID' as categorical\n",
      "... storing 'Tissue' as categorical\n",
      "... storing 'Batch' as categorical\n",
      "... storing 'Annotation' as categorical\n"
     ]
    },
    {
     "name": "stdout",
     "output_type": "stream",
     "text": [
      "loading musmusculus_lung_2018_microwellseq_han_014_10.1016/j.cell.2018.02.001\n"
     ]
    },
    {
     "name": "stderr",
     "output_type": "stream",
     "text": [
      "... storing 'ClusterID' as categorical\n",
      "... storing 'Tissue' as categorical\n",
      "... storing 'Batch' as categorical\n",
      "... storing 'Annotation' as categorical\n"
     ]
    },
    {
     "name": "stdout",
     "output_type": "stream",
     "text": [
      "loading musmusculus_liver_2018_microwellseq_han_020_10.1016/j.cell.2018.02.001\n"
     ]
    },
    {
     "name": "stderr",
     "output_type": "stream",
     "text": [
      "... storing 'ClusterID' as categorical\n",
      "... storing 'Tissue' as categorical\n",
      "... storing 'Batch' as categorical\n",
      "... storing 'Annotation' as categorical\n"
     ]
    },
    {
     "name": "stdout",
     "output_type": "stream",
     "text": [
      "loading musmusculus_liver_2018_microwellseq_han_021_10.1016/j.cell.2018.02.001\n"
     ]
    },
    {
     "name": "stderr",
     "output_type": "stream",
     "text": [
      "... storing 'ClusterID' as categorical\n",
      "... storing 'Tissue' as categorical\n",
      "... storing 'Batch' as categorical\n",
      "... storing 'Annotation' as categorical\n"
     ]
    },
    {
     "name": "stdout",
     "output_type": "stream",
     "text": [
      "loading musmusculus_lung_2018_microwellseq_han_022_10.1016/j.cell.2018.02.001\n"
     ]
    },
    {
     "name": "stderr",
     "output_type": "stream",
     "text": [
      "... storing 'ClusterID' as categorical\n",
      "... storing 'Tissue' as categorical\n",
      "... storing 'Batch' as categorical\n",
      "... storing 'Annotation' as categorical\n"
     ]
    },
    {
     "name": "stdout",
     "output_type": "stream",
     "text": [
      "loading musmusculus_lung_2018_microwellseq_han_023_10.1016/j.cell.2018.02.001\n"
     ]
    },
    {
     "name": "stderr",
     "output_type": "stream",
     "text": [
      "... storing 'ClusterID' as categorical\n",
      "... storing 'Tissue' as categorical\n",
      "... storing 'Batch' as categorical\n",
      "... storing 'Annotation' as categorical\n"
     ]
    },
    {
     "name": "stdout",
     "output_type": "stream",
     "text": [
      "loading musmusculus_lung_2018_microwellseq_han_024_10.1016/j.cell.2018.02.001\n"
     ]
    },
    {
     "name": "stderr",
     "output_type": "stream",
     "text": [
      "... storing 'ClusterID' as categorical\n",
      "... storing 'Tissue' as categorical\n",
      "... storing 'Batch' as categorical\n",
      "... storing 'Annotation' as categorical\n"
     ]
    },
    {
     "name": "stdout",
     "output_type": "stream",
     "text": [
      "loading musmusculus_blood_2018_microwellseq_han_046_10.1016/j.cell.2018.02.001\n"
     ]
    },
    {
     "name": "stderr",
     "output_type": "stream",
     "text": [
      "... storing 'ClusterID' as categorical\n",
      "... storing 'Tissue' as categorical\n",
      "... storing 'Batch' as categorical\n",
      "... storing 'Annotation' as categorical\n"
     ]
    },
    {
     "name": "stdout",
     "output_type": "stream",
     "text": [
      "loading musmusculus_blood_2018_microwellseq_han_047_10.1016/j.cell.2018.02.001\n"
     ]
    },
    {
     "name": "stderr",
     "output_type": "stream",
     "text": [
      "... storing 'ClusterID' as categorical\n",
      "... storing 'Tissue' as categorical\n",
      "... storing 'Batch' as categorical\n",
      "... storing 'Annotation' as categorical\n"
     ]
    },
    {
     "name": "stdout",
     "output_type": "stream",
     "text": [
      "loading musmusculus_blood_2018_microwellseq_han_048_10.1016/j.cell.2018.02.001\n"
     ]
    },
    {
     "name": "stderr",
     "output_type": "stream",
     "text": [
      "... storing 'ClusterID' as categorical\n",
      "... storing 'Tissue' as categorical\n",
      "... storing 'Batch' as categorical\n",
      "... storing 'Annotation' as categorical\n"
     ]
    },
    {
     "name": "stdout",
     "output_type": "stream",
     "text": [
      "loading musmusculus_blood_2018_microwellseq_han_049_10.1016/j.cell.2018.02.001\n"
     ]
    },
    {
     "name": "stderr",
     "output_type": "stream",
     "text": [
      "... storing 'ClusterID' as categorical\n",
      "... storing 'Tissue' as categorical\n",
      "... storing 'Batch' as categorical\n",
      "... storing 'Annotation' as categorical\n"
     ]
    },
    {
     "name": "stdout",
     "output_type": "stream",
     "text": [
      "loading musmusculus_blood_2018_microwellseq_han_050_10.1016/j.cell.2018.02.001\n"
     ]
    },
    {
     "name": "stderr",
     "output_type": "stream",
     "text": [
      "... storing 'ClusterID' as categorical\n",
      "... storing 'Tissue' as categorical\n",
      "... storing 'Batch' as categorical\n",
      "... storing 'Annotation' as categorical\n"
     ]
    },
    {
     "name": "stdout",
     "output_type": "stream",
     "text": [
      "loading musmusculus_blood_2018_microwellseq_han_051_10.1016/j.cell.2018.02.001\n"
     ]
    },
    {
     "name": "stderr",
     "output_type": "stream",
     "text": [
      "... storing 'ClusterID' as categorical\n",
      "... storing 'Tissue' as categorical\n",
      "... storing 'Batch' as categorical\n",
      "... storing 'Annotation' as categorical\n",
      "Variable names are not unique. To make them unique, call `.var_names_make_unique`.\n",
      "Variable names are not unique. To make them unique, call `.var_names_make_unique`.\n",
      "Variable names are not unique. To make them unique, call `.var_names_make_unique`.\n",
      "Variable names are not unique. To make them unique, call `.var_names_make_unique`.\n",
      "Variable names are not unique. To make them unique, call `.var_names_make_unique`.\n",
      "Variable names are not unique. To make them unique, call `.var_names_make_unique`.\n",
      "Variable names are not unique. To make them unique, call `.var_names_make_unique`.\n",
      "Variable names are not unique. To make them unique, call `.var_names_make_unique`.\n",
      "Variable names are not unique. To make them unique, call `.var_names_make_unique`.\n",
      "Variable names are not unique. To make them unique, call `.var_names_make_unique`.\n",
      "Variable names are not unique. To make them unique, call `.var_names_make_unique`.\n",
      "Variable names are not unique. To make them unique, call `.var_names_make_unique`.\n",
      "Variable names are not unique. To make them unique, call `.var_names_make_unique`.\n",
      "Variable names are not unique. To make them unique, call `.var_names_make_unique`.\n",
      "Variable names are not unique. To make them unique, call `.var_names_make_unique`.\n",
      "Variable names are not unique. To make them unique, call `.var_names_make_unique`.\n",
      "Variable names are not unique. To make them unique, call `.var_names_make_unique`.\n"
     ]
    },
    {
     "name": "stdout",
     "output_type": "stream",
     "text": [
      "AnnData object with n_obs × n_vars = 67783 × 21885\n",
      "    obs: 'assay_sc', 'assay_differentiation', 'assay_type_differentiation', 'bio_sample', 'cell_line', 'development_stage', 'disease', 'id', 'individual', 'organ', 'organism', 'sex', 'state_exact', 'sample_source', 'tech_sample', 'assay_sc_ontology_term_id', 'cell_line_ontology_term_id', 'cell_type', 'cell_type_ontology_term_id', 'development_stage_ontology_term_id', 'disease_ontology_term_id', 'ethnicity_ontology_term_id', 'ethnicity', 'organ_ontology_term_id', 'organism_ontology_term_id', 'sex_ontology_term_id', 'dataset'\n",
      "    var: 'ensembl', 'gene_symbol'\n",
      "    uns: 'year', 'default_embedding', 'doi_journal', 'author', 'remove_gene_version', 'ethnicity', 'cell_line', 'download_url_data', 'state_exact', 'title', 'cell_type', 'assay_differentiation', 'primary_data', 'assay_type_differentiation', 'mapped_features', 'load_raw', 'id', 'organism', 'sample_source', 'normalization', 'download_url_meta', 'sex', 'disease', 'development_stage', 'organ', 'doi_preprint', 'annotated', 'assay_sc'\n"
     ]
    }
   ],
   "source": [
    "ds = sfaira.data.Universe(data_path=datadir, meta_path=metadir, cache_path=cachedir)  # This links all data sets available\n",
    "ds.subset(key=\"organism\", values=[\"Mus musculus\"])  # subset to mouse datasets\n",
    "ds.subset(key=\"organ\", values=[\"lung\", \"liver\"])  # subset further to liver and lung data sets\n",
    "ds.download() # Download the selected datasets to your local sfaira data repository\n",
    "ds.load(verbose=1)  # This loads the anndata objects into memory\n",
    "ds.streamline_features(match_to_release=\"104\", subset_genes_to_type=\"protein_coding\")  # Choose a reference genome and subset to only protein-coding genes\n",
    "ds.streamline_metadata(schema=\"sfaira\")  # make sure the metadata annotation of all datasets are in line with the sfaira schema, so they can be cleanly concatenated in the next step\n",
    "print(ds.adata) # Use the adata object for your analysis or modelling."
   ]
  },
  {
   "cell_type": "code",
   "execution_count": null,
   "metadata": {},
   "outputs": [],
   "source": []
  }
 ],
 "metadata": {
  "kernelspec": {
   "display_name": "Python 3",
   "language": "python",
   "name": "python3"
  },
  "language_info": {
   "codemirror_mode": {
    "name": "ipython",
    "version": 3
   },
   "file_extension": ".py",
   "mimetype": "text/x-python",
   "name": "python",
   "nbconvert_exporter": "python",
   "pygments_lexer": "ipython3",
   "version": "3.8.6"
  },
  "toc": {
   "base_numbering": 1,
   "nav_menu": {},
   "number_sections": true,
   "sideBar": true,
   "skip_h1_title": false,
   "title_cell": "Table of Contents",
   "title_sidebar": "Contents",
   "toc_cell": false,
   "toc_position": {},
   "toc_section_display": true,
   "toc_window_display": false
  }
 },
 "nbformat": 4,
 "nbformat_minor": 4
}
