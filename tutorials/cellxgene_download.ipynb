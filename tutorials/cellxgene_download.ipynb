{
 "cells": [
  {
   "cell_type": "markdown",
   "id": "dbdcbaff",
   "metadata": {},
   "source": [
    "# Setup"
   ]
  },
  {
   "cell_type": "code",
   "execution_count": 1,
   "id": "37002c61",
   "metadata": {
    "scrolled": true
   },
   "outputs": [
    {
     "name": "stderr",
     "output_type": "stream",
     "text": [
      "* Owlready2 * Warning: optimized Cython parser module 'owlready2_optimized' is not available, defaulting to slower Python implementation\n"
     ]
    }
   ],
   "source": [
    "import anndata\n",
    "import os\n",
    "\n",
    "import sfaira"
   ]
  },
  {
   "cell_type": "markdown",
   "id": "b68f319d",
   "metadata": {},
   "source": [
    "The following path will be used as a cache for downloads from the cellxgene data server:"
   ]
  },
  {
   "cell_type": "code",
   "execution_count": 2,
   "id": "f4a7ce38",
   "metadata": {},
   "outputs": [],
   "source": [
    "cache_path = os.path.join(\".\", \"data\")"
   ]
  },
  {
   "cell_type": "markdown",
   "id": "ab2d3dda",
   "metadata": {},
   "source": [
    "# #TLDR"
   ]
  },
  {
   "cell_type": "markdown",
   "id": "1bd5b20f",
   "metadata": {},
   "source": [
    "All code necessary to download and load a collection in one go:"
   ]
  },
  {
   "cell_type": "markdown",
   "id": "c9e905b3",
   "metadata": {},
   "source": [
    "``` python\n",
    "from sfaira.data.dataloaders.databases import DatasetSuperGroupDatabases\n",
    "dsg = DatasetSuperGroupDatabases(data_path=cache_path)\n",
    "dsg.subset(key=\"collection_id\", values=target_collections)\n",
    "dsg.download()\n",
    "dsg.load()\n",
    "adatas = dsg.adata_ls\n",
    "```"
   ]
  },
  {
   "cell_type": "markdown",
   "id": "ef8ff9b7",
   "metadata": {},
   "source": [
    "# Sfaira basics"
   ]
  },
  {
   "cell_type": "markdown",
   "id": "63d13c2f",
   "metadata": {},
   "source": [
    "We will be working with the `Dataset` API of sfaira with which you can also load sfaira maintained data sets. Here, we use a specific part of the API that interfaces the cellxgene data base as a group of data set groups (a super group in sfaira nomenclature): Each cellxgene collection is a group of data set groups, which mean that each cellxgene maintained h5ad maps to one `Dataset` class in sfaira.\n",
    "\n",
    "Consider this API summary for more details on the `Dataset` API, `DatasetGroup`'s and `DatasetSuperGroup`'s: https://sfaira.readthedocs.io/en/latest/api.html#module-sfaira.data"
   ]
  },
  {
   "cell_type": "markdown",
   "id": "83282c84",
   "metadata": {},
   "source": [
    "# Interaction with database"
   ]
  },
  {
   "cell_type": "code",
   "execution_count": 3,
   "id": "97ee6d26",
   "metadata": {},
   "outputs": [
    {
     "name": "stdout",
     "output_type": "stream",
     "text": [
      "Ontology <class 'sfaira.versions.metadata.base.OntologyUberonLifecyclestage'> is not a DAG, treat child-parent reasoning with care.\n",
      "Ontology <class 'sfaira.versions.metadata.base.OntologyMondo'> is not a DAG, treat child-parent reasoning with care.\n",
      "Ontology <class 'sfaira.versions.metadata.base.OntologyUberon'> is not a DAG, treat child-parent reasoning with care.\n"
     ]
    }
   ],
   "source": [
    "dsg = sfaira.data.dataloaders.databases.DatasetSuperGroupDatabases(data_path=cache_path)"
   ]
  },
  {
   "cell_type": "markdown",
   "id": "51300445",
   "metadata": {},
   "source": [
    "Let's check out which collections are available from cellxgene (you can also manually check on the website https://cellxgene.cziscience.com/):"
   ]
  },
  {
   "cell_type": "code",
   "execution_count": 4,
   "id": "ff1807a6",
   "metadata": {
    "scrolled": false
   },
   "outputs": [
    {
     "name": "stdout",
     "output_type": "stream",
     "text": [
      "37b21763-7f0f-41ae-9001-60bad6e2841d\n",
      "\t ('cellxgene', 'Homo sapiens', 'islet of Langerhans', \"10x 3' transcription profiling\", 'healthy')\n",
      "b07e5164-baf6-43d2-bdba-5a249d0da879\n",
      "\t ('cellxgene', 'Homo sapiens', 'pancreas', 'CEL-seq2', 'healthy')\n",
      "9dbab10c-118d-496b-966a-67f1763a6b7d\n",
      "\t ('cellxgene', 'Homo sapiens', 'blood', \"10x 3' v3\", 'COVID-19')\n",
      "030faa69-ff79-4d85-8630-7c874a114c19\n",
      "\t ('cellxgene', 'Homo sapiens', None, \"10x 3' v3\", 'COVID-19')\n",
      "28c696bb-9549-434b-9340-dc745a846f9a\n",
      "\t ('cellxgene', 'Mus musculus', 'frontal cortex', 'Smart-seq', 'healthy')\n",
      "4b9e0a15-c006-45d9-860f-b8a43ccf7d9d\n",
      "\t ('cellxgene', 'Homo sapiens', None, 'Drop-seq', 'COVID-19')\n",
      "ca421096-6240-4cee-8c12-d20899b3e005\n",
      "\t ('cellxgene', 'Homo sapiens', None, 'Drop-seq', 'COVID-19')\n",
      "dd018fc0-8da7-4033-a2ba-6b47de8ebb4f\n",
      "\t ('cellxgene', 'Homo sapiens', 'peripheral zone of prostate', \"10x 3' v2\", 'benign prostatic hyperplasia (disease)')\n",
      "2a262b59-7936-4ecd-b656-248247a0559f\n",
      "\t ('cellxgene', 'Mus musculus', 'prostate gland', \"10x 3' v2\", 'healthy')\n",
      "43770b51-4b0e-4180-a83b-e77664c60736\n",
      "\t ('cellxgene', 'Mus musculus', 'prostate gland', \"10x 3' v2\", 'healthy')\n",
      "574e9f9e-f8b4-41ef-bf19-89a9964fd9c7\n",
      "\t ('cellxgene', 'Homo sapiens', 'peripheral zone of prostate', \"10x 3' v2\", 'benign prostatic hyperplasia (disease)')\n",
      "5ba85070-a41c-4184-9c18-cf34c3fd0f62\n",
      "\t ('cellxgene', 'Homo sapiens', 'peripheral zone of prostate', \"10x 3' v2\", 'benign prostatic hyperplasia (disease)')\n",
      "03c0e874-f984-4e6c-9d2a-26ef8507dbbc\n",
      "\t ('cellxgene', 'Mus musculus', 'prostate gland', \"10x 3' v2\", 'healthy')\n",
      "d3a83885-5198-4b04-8314-b753b66ef9a8\n",
      "\t ('cellxgene', 'Homo sapiens', 'peripheral zone of prostate', \"10x 3' v2\", 'benign prostatic hyperplasia (disease)')\n",
      "de985818-285f-4f59-9dbd-d74968fddba3\n",
      "\t ('cellxgene', 'Homo sapiens', 'upper outer quadrant of breast', \"10x 3' v2\", 'healthy')\n",
      "06b91002-4d3d-4d2e-8484-20c3b31e232c\n",
      "\t ('cellxgene', 'Homo sapiens', 'entorhinal cortex', \"10x 3' v2\", 'Alzheimer disease')\n",
      "6c600df6-ddca-4628-a8bb-1d6de1e3f9b4\n",
      "\t ('cellxgene', 'Homo sapiens', 'superior frontal gyrus', \"10x 3' v2\", 'Alzheimer disease')\n",
      "75a881cf-5d88-46e2-bf9b-97e5cbc1bd56\n",
      "\t ('cellxgene', 'Homo sapiens', 'entorhinal cortex', \"10x 3' v2\", 'Alzheimer disease')\n",
      "873ff933-4fda-4936-9a70-67df11af90ac\n",
      "\t ('cellxgene', 'Homo sapiens', 'superior frontal gyrus', \"10x 3' v2\", 'Alzheimer disease')\n",
      "1492eb6b-7d50-4c4d-94ac-c801a7d5555c\n",
      "\t ('cellxgene', 'Homo sapiens', 'superior frontal gyrus', \"10x 3' v2\", 'Alzheimer disease')\n",
      "24066994-8183-488d-b037-ef6bb524af39\n",
      "\t ('cellxgene', 'Homo sapiens', 'superior frontal gyrus', \"10x 3' v2\", 'Alzheimer disease')\n",
      "2727d83a-0af0-443a-bff8-58dc7028289a\n",
      "\t ('cellxgene', 'Homo sapiens', 'entorhinal cortex', \"10x 3' v2\", 'Alzheimer disease')\n",
      "9f1049ac-f8b7-45ad-8e31-6e96c3e5058f\n",
      "\t ('cellxgene', 'Homo sapiens', 'entorhinal cortex', \"10x 3' v2\", 'Alzheimer disease')\n",
      "b94e3bdf-a385-49cc-b312-7a63cc28b77a\n",
      "\t ('cellxgene', 'Homo sapiens', 'superior frontal gyrus', \"10x 3' v2\", 'Alzheimer disease')\n",
      "bdacc907-7c26-419f-8808-969eab3ca2e8\n",
      "\t ('cellxgene', 'Homo sapiens', 'superior frontal gyrus', \"10x 3' v2\", 'Alzheimer disease')\n",
      "cd77258f-b08b-4c89-b93f-6e6f146b1a4d\n",
      "\t ('cellxgene', 'Homo sapiens', 'entorhinal cortex', \"10x 3' v2\", 'Alzheimer disease')\n",
      "f9ad5649-f372-43e1-a3a8-423383e5a8a2\n",
      "\t ('cellxgene', 'Homo sapiens', 'entorhinal cortex', \"10x 3' v2\", 'Alzheimer disease')\n",
      "b22a3a55-9a35-434e-93e1-f2483037f33c\n",
      "\t ('cellxgene', 'Mus musculus', 'anterior cerebral artery', 'scATAC-seq', 'healthy')\n",
      "d33814fc-31e8-4f39-a200-a0ca21a9b134\n",
      "\t ('cellxgene', 'Mus musculus', 'anterior cerebral artery', 'scATAC-seq', 'healthy')\n",
      "ca3790f0-c6a6-41b1-b532-61f9b86d346a\n",
      "\t ('cellxgene', 'Mus musculus', 'anterior cerebral artery', 'scATAC-seq', 'healthy')\n",
      "901572e0-8d09-4c21-9136-af4d06e366a1\n",
      "\t ('cellxgene', 'Homo sapiens', 'blood', \"10x 3' v3\", 'COVID-19')\n",
      "6acb6637-ac08-4a65-b2d1-581e51dc7ccf\n",
      "\t ('cellxgene', 'Callithrix jacchus', 'primary motor cortex', \"10x 3' v3\", 'healthy')\n",
      "9b686bb6-1427-4e13-b451-7ee961115cf9\n",
      "\t ('cellxgene', 'Callithrix jacchus', 'primary motor cortex', \"10x 3' v3\", 'healthy')\n",
      "b6203114-e133-458a-aed5-eed1028378b4\n",
      "\t ('cellxgene', 'Callithrix jacchus', 'primary motor cortex', \"10x 3' v3\", 'healthy')\n",
      "f7a068f1-0fdb-48e8-8029-db870ff11d9e\n",
      "\t ('cellxgene', 'Callithrix jacchus', 'primary motor cortex', \"10x 3' v3\", 'healthy')\n",
      "13a027de-ea3e-432b-9a5e-6bc7048498fc\n",
      "\t ('cellxgene', 'Homo sapiens', 'cortex of kidney', 'scATAC-seq', 'healthy')\n",
      "9df60c57-fdf3-4e93-828e-fe9303f20438\n",
      "\t ('cellxgene', 'Homo sapiens', 'cortex of kidney', \"10x 5' v1\", 'healthy')\n",
      "077b0429-0f47-48e0-879a-39eaae531d42\n",
      "\t ('cellxgene', 'Homo sapiens', 'lung epithelium', \"10x 3' v3\", 'healthy')\n",
      "01ad3cd7-3929-4654-84c0-6db05bd5fd59\n",
      "\t ('cellxgene', 'Homo sapiens', 'blood', \"10x 5' transcription profiling\", 'COVID-19')\n",
      "3de0ad6d-4378-4f62-b37b-ec0b75a50d94\n",
      "\t ('cellxgene', 'Homo sapiens', 'lung', \"10x 3' v3\", 'healthy')\n",
      "524e045e-e74c-4e00-9884-d5c3bef3d862\n",
      "\t ('cellxgene', 'Homo sapiens', 'caudate lobe of liver', \"10x 3' v2\", 'healthy')\n",
      "0895c838-e550-48a3-a777-dbcd35d30272\n",
      "\t ('cellxgene', 'Homo sapiens', 'caudate lobe of liver', \"10x 3' v2\", 'healthy')\n",
      "bf176af2-4432-4391-9b35-e21bd86ca4f8\n",
      "\t ('cellxgene', 'Homo sapiens', 'caudate lobe of liver', \"10x 3' v2\", 'healthy')\n",
      "9f049476-2431-4645-a2d6-f6e85892b603\n",
      "\t ('cellxgene', 'Homo sapiens', 'caudate lobe of liver', \"10x 3' v2\", 'healthy')\n",
      "3b6ed41e-10a1-47dd-b995-8cde7d041fd6\n",
      "\t ('cellxgene', 'Homo sapiens', 'caudate lobe of liver', \"10x 3' v2\", 'healthy')\n",
      "ddb22b3d-a75c-4dd1-9730-dff7fc8ca530\n",
      "\t ('cellxgene', 'Homo sapiens', 'caudate lobe of liver', \"10x 3' v2\", 'healthy')\n",
      "8faa2c07-0080-4627-b1d7-e645a780d752\n",
      "\t ('cellxgene', 'Homo sapiens', 'caudate lobe of liver', \"10x 3' v2\", 'healthy')\n",
      "a49d9109-1d0c-4b36-8139-19aa9a83428c\n",
      "\t ('cellxgene', 'Homo sapiens', 'caudate lobe of liver', \"10x 3' v2\", 'healthy')\n",
      "047d57f2-4d14-45de-aa98-336c6f583750\n",
      "\t ('cellxgene', 'Mus musculus', 'lung', \"10x 3' v2\", 'healthy')\n",
      "108c2b65-4ea9-4792-8b5b-451842faf35b\n",
      "\t ('cellxgene', 'Homo sapiens', None, 'sci-RNA-seq', 'healthy')\n",
      "38a78e91-e361-45c8-bae3-1d6d5108d18e\n",
      "\t ('cellxgene', 'Homo sapiens', None, 'sci-RNA-seq', 'healthy')\n",
      "fe2479fd-daff-41a8-97dc-a50457ab1871\n",
      "\t ('cellxgene', 'Homo sapiens', None, 'sci-RNA-seq', 'healthy')\n",
      "e04daea4-4412-45b5-989e-76a9be070a89\n",
      "\t ('cellxgene', 'Homo sapiens', 'blood', 'Smart-seq2', 'healthy')\n",
      "8c42cfd0-0b0a-46d5-910c-fc833d83c45e\n",
      "\t ('cellxgene', 'Homo sapiens', 'blood', \"10x 3' v2\", 'healthy')\n",
      "aad97cb5-f375-45ef-ae9d-178e7f5d5180\n",
      "\t ('cellxgene', 'Homo sapiens', 'fovea centralis', \"10x 3' v3\", 'healthy')\n",
      "0129dbd9-a7d3-4f6b-96b9-1da155a93748\n",
      "\t ('cellxgene', 'Homo sapiens', 'fovea centralis', \"10x 3' v3\", 'healthy')\n",
      "8f10185b-e0b3-46a5-8706-7f1799225d79\n",
      "\t ('cellxgene', 'Homo sapiens', 'fovea centralis', \"10x 3' v3\", 'healthy')\n",
      "11ef37ee-2173-458e-aab8-7fe35da8e47b\n",
      "\t ('cellxgene', 'Homo sapiens', 'fovea centralis', \"10x 3' v3\", 'healthy')\n",
      "359f7af4-87d4-4117-9d6c-ca4cfa1f3f0b\n",
      "\t ('cellxgene', 'Homo sapiens', 'fovea centralis', \"10x 3' v3\", 'healthy')\n",
      "00e5dedd-b9b7-43be-8c28-b0e5c6414a62\n",
      "\t ('cellxgene', 'Homo sapiens', 'fovea centralis', \"10x 3' v3\", 'healthy')\n",
      "ed419b4e-db9b-40f1-8593-68fdf8dfb076\n",
      "\t ('cellxgene', 'Homo sapiens', 'fovea centralis', \"10x 3' v3\", 'healthy')\n",
      "01209dce-3575-4bed-b1df-129f57fbc031\n",
      "\t ('cellxgene', 'Homo sapiens', 'blood', \"10x 3' v2\", 'healthy')\n",
      "f72958f5-7f42-4ebb-98da-445b0c6de516\n",
      "\t ('cellxgene', 'Homo sapiens', 'blood', \"10x 3' v1\", 'COVID-19')\n",
      "66d15835-5dc8-4e96-b0eb-f48971cb65e8\n",
      "\t ('cellxgene', 'Homo sapiens', 'pancreas', 'Smart-seq2', 'healthy')\n",
      "2adb1f8a-a6b1-4909-8ee8-484814e2d4bf\n",
      "\t ('cellxgene', 'Homo sapiens', 'adipose tissue', 'microwell-seq', 'healthy')\n",
      "257adc73-8152-414b-a2c7-73861b8e0c0a\n",
      "\t ('cellxgene', 'Mus musculus', 'primary motor cortex', 'MERFISH', 'healthy')\n",
      "1304e107-0f06-4d33-b634-d95ed986d02b\n",
      "\t ('cellxgene', 'Mus musculus', 'primary motor cortex', 'Smart-seq', 'healthy')\n",
      "34575f91-6990-4df9-9d1f-c175deba676b\n",
      "\t ('cellxgene', 'Mus musculus', 'primary motor cortex', 'snmC-seq', 'healthy')\n",
      "35081d47-99bf-4507-9541-735428df9a9f\n",
      "\t ('cellxgene', 'Mus musculus', 'primary motor cortex', \"10x 3' v2\", 'healthy')\n",
      "50d79de5-bd17-4d14-a295-199d71ff56be\n",
      "\t ('cellxgene', 'Mus musculus', 'primary motor cortex', \"10x 3' v3\", 'healthy')\n",
      "5e765f97-1cf1-407e-a86c-e28701f4749d\n",
      "\t ('cellxgene', 'Mus musculus', 'primary motor cortex', \"10x 3' v3\", 'healthy')\n",
      "15d7a3cf-bb3a-4169-a6be-03353be4f680\n",
      "\t ('cellxgene', 'Mus musculus', 'primary motor cortex', 'snmC-seq', 'healthy')\n",
      "31dd355c-3140-4558-a648-7e1e5f00480b\n",
      "\t ('cellxgene', 'Mus musculus', 'primary motor cortex', 'scATAC-seq', 'healthy')\n",
      "a9affc92-a291-4eb9-996f-147392132323\n",
      "\t ('cellxgene', 'Mus musculus', 'primary motor cortex', \"10x 3' v3\", 'healthy')\n",
      "c88e2a9c-72b8-4a88-a2f6-e428eada0c86\n",
      "\t ('cellxgene', 'Mus musculus', 'primary motor cortex', \"10x 3' v2\", 'healthy')\n",
      "d622cee4-56e1-44ba-8b05-fd2f0f2032e6\n",
      "\t ('cellxgene', 'Mus musculus', 'primary motor cortex', 'Smart-seq', 'healthy')\n",
      "1009f384-b12d-448e-ba9f-1b7d2ecfbb4e\n",
      "\t ('cellxgene', 'Homo sapiens', 'apex of heart', \"10x 3' v2\", 'healthy')\n",
      "572f3f3e-d3e4-4d13-8e2b-88215e508481\n",
      "\t ('cellxgene', 'Homo sapiens', 'apex of heart', \"10x 3' v2\", 'healthy')\n",
      "78fd69d2-75e4-4207-819a-563139f273c6\n",
      "\t ('cellxgene', 'Homo sapiens', 'apex of heart', \"10x 3' v2\", 'healthy')\n",
      "84f1a631-910b-4fbb-9f76-d915a07316d2\n",
      "\t ('cellxgene', 'Homo sapiens', 'left cardiac atrium', \"10x 3' v2\", 'healthy')\n",
      "9d584fcb-a28a-4b91-a886-ceb66a88ef81\n",
      "\t ('cellxgene', 'Homo sapiens', 'apex of heart', \"10x 3' v2\", 'healthy')\n",
      "d4e69e01-3ba2-4d6b-a15d-e7048f78f22e\n",
      "\t ('cellxgene', 'Homo sapiens', 'apex of heart', \"10x 3' v2\", 'healthy')\n",
      "ed852810-a003-4386-9846-1638362cee39\n",
      "\t ('cellxgene', 'Homo sapiens', 'apex of heart', \"10x 3' v2\", 'healthy')\n",
      "f75f2ff4-2884-4c2d-b375-70de37a34507\n",
      "\t ('cellxgene', 'Homo sapiens', 'apex of heart', \"10x 3' v2\", 'healthy')\n",
      "218acb0f-9f2f-4f76-b90b-15a4b7c7f629\n",
      "\t ('cellxgene', 'Homo sapiens', 'blood', \"10x 3' v2\", 'healthy')\n",
      "e006d4e3-35fa-44b4-9981-09a66c4322e5\n",
      "\t ('cellxgene', 'Homo sapiens', 'intestine', \"10x 3' v3\", 'healthy')\n",
      "4506d9e3-4543-4464-aeae-b0b04eee1cea\n",
      "\t ('cellxgene', 'Homo sapiens', 'colon', 'Visium Spatial Gene Expression', 'healthy')\n",
      "58679288-9ecc-4647-9781-12a3a8f8c6fd\n",
      "\t ('cellxgene', 'Homo sapiens', 'intestine', \"10x 3' v3\", 'healthy')\n",
      "08e94873-c2a6-4f7d-ab72-aeaff3e3f929\n",
      "\t ('cellxgene', 'Homo sapiens', 'intestine', 'Visium Spatial Gene Expression', 'healthy')\n",
      "774de9c6-9752-4e39-89a9-2a88c869d52a\n",
      "\t ('cellxgene', 'Homo sapiens', 'intestine', 'Visium Spatial Gene Expression', 'healthy')\n",
      "04b0eb97-d816-44bb-93a5-8b2968791aa0\n",
      "\t ('cellxgene', 'Homo sapiens', 'intestine', \"10x 3' v3\", 'healthy')\n",
      "4d2e0563-cf4a-48bd-aa7f-efc26025b53a\n",
      "\t ('cellxgene', 'Homo sapiens', 'intestine', \"10x 3' v3\", 'healthy')\n",
      "9d5df009-eb76-43a3-b6cd-22017cc53700\n",
      "\t ('cellxgene', 'Homo sapiens', 'intestine', \"10x 3' v3\", 'healthy')\n",
      "9dfd2243-74d6-4924-86bd-c206ca9287b1\n",
      "\t ('cellxgene', 'Homo sapiens', 'colon', 'Visium Spatial Gene Expression', 'healthy')\n",
      "2d66790a-6621-4a49-8f0d-4002db5cc98d\n",
      "\t ('cellxgene', 'Homo sapiens', 'intestine', 'Visium Spatial Gene Expression', 'healthy')\n",
      "aa0b5adb-957d-4f15-ab83-2c5cc2843f77\n",
      "\t ('cellxgene', 'Homo sapiens', 'intestine', 'Visium Spatial Gene Expression', 'healthy')\n",
      "abd889c6-f60a-4fbd-924e-ee1e9dcf909b\n",
      "\t ('cellxgene', 'Homo sapiens', 'intestine', 'Visium Spatial Gene Expression', 'healthy')\n",
      "b9b4cf27-9c22-410d-8bd8-5d43e379485b\n",
      "\t ('cellxgene', 'Homo sapiens', 'intestine', 'Visium Spatial Gene Expression', 'healthy')\n",
      "bbd16004-09e8-4b6c-b465-73ff83a52837\n",
      "\t ('cellxgene', 'Homo sapiens', 'intestine', \"10x 3' v3\", 'healthy')\n",
      "4269074c-f2c1-4d88-b2c3-0946f59d5449\n",
      "\t ('cellxgene', 'Homo sapiens', 'intestine', \"10x 3' v3\", 'healthy')\n",
      "c42c8ad3-9761-49e5-b9bf-ee8ebd50416f\n",
      "\t ('cellxgene', 'Homo sapiens', 'intestine', \"10x 3' v3\", 'healthy')\n",
      "fd89be61-2869-4342-a86e-e1fce3a8f269\n",
      "\t ('cellxgene', 'Homo sapiens', 'intestine', \"10x 3' v3\", 'healthy')\n",
      "a1b9c51e-a408-4f7f-bccb-abefe20ae2a5\n",
      "\t ('cellxgene', 'Homo sapiens', 'dorsolateral prefrontal cortex', \"10x 3' v2\", 'Alzheimer disease')\n",
      "de4e7a0c-91b2-44e4-b382-87da74c9efb6\n",
      "\t ('cellxgene', 'Mus musculus', 'large intestine', \"10x 3' v2\", 'healthy')\n",
      "0380ddce-c31b-422a-88fe-34a1945bd949\n",
      "\t ('cellxgene', 'Mus musculus', 'aorta', 'Smart-seq2', 'healthy')\n",
      "05e6f6e3-0473-4b85-9f94-bcc5f1b5e04b\n",
      "\t ('cellxgene', 'Mus musculus', 'lung', 'Smart-seq2', 'healthy')\n",
      "170ce19f-7a2f-4926-a1cc-adcad99e7474\n",
      "\t ('cellxgene', 'Mus musculus', 'thymus', 'Smart-seq2', 'healthy')\n",
      "3f4fe86f-aced-4d10-b174-ee35b9f46b9d\n",
      "\t ('cellxgene', 'Mus musculus', 'trachea', 'Smart-seq2', 'healthy')\n",
      "4546e757-34d0-4d17-be06-538318925fcd\n",
      "\t ('cellxgene', 'Mus musculus', 'liver', 'Smart-seq2', 'healthy')\n",
      "4fa55ee5-8da4-4d42-9525-1c52d4ce50bf\n",
      "\t ('cellxgene', 'Mus musculus', 'skin of body', \"10x 3' v2\", 'healthy')\n",
      "524179b0-b406-4723-9c46-293ffa77ca81\n",
      "\t ('cellxgene', 'Mus musculus', 'kidney', 'Smart-seq2', 'healthy')\n",
      "e2b469d4-b5c3-4a35-9d19-ee71ce61cae0\n",
      "\t ('cellxgene', 'Mus musculus', 'spleen', \"10x 3' v2\", 'healthy')\n",
      "6202a243-b713-4e12-9ced-c387f8483dea\n",
      "\t ('cellxgene', 'Mus musculus', 'liver', \"10x 3' v2\", 'healthy')\n",
      "66ff82b4-9380-469c-bc4b-cfa08eacd325\n",
      "\t ('cellxgene', 'Mus musculus', 'brain', 'Smart-seq2', 'healthy')\n",
      "48b37086-25f7-4ecd-be66-f5bb378e3aea\n",
      "\t ('cellxgene', 'Mus musculus', 'adipose tissue', \"10x 3' v2\", 'healthy')\n",
      "6e4f871d-fd7c-4909-8c14-e4c9957c2e8f\n",
      "\t ('cellxgene', 'Mus musculus', 'thymus', \"10x 3' v2\", 'healthy')\n",
      "76544818-bc5b-4a0d-87d4-40dde89545cb\n",
      "\t ('cellxgene', 'Mus musculus', 'adipose tissue', \"10x 3' v2\", 'healthy')\n",
      "0bd1a1de-3aee-40e0-b2ec-86c7a30c7149\n",
      "\t ('cellxgene', 'Mus musculus', 'bone marrow', \"10x 3' v2\", 'healthy')\n",
      "0fb7916e-7a68-4a4c-a441-3ab3989f29a7\n",
      "\t ('cellxgene', 'Mus musculus', 'lung', \"10x 3' v2\", 'healthy')\n",
      "7c6091da-4606-44c7-a2c4-ef896de09e28\n",
      "\t ('cellxgene', 'Mus musculus', 'mammary gland', \"10x 3' v2\", 'healthy')\n",
      "821c79aa-044e-40cf-b331-0fe3edd48019\n",
      "\t ('cellxgene', 'Mus musculus', 'mesenteric fat pad', 'Smart-seq2', 'healthy')\n",
      "1a0610d8-1339-479b-b261-7fb586c3dab9\n",
      "\t ('cellxgene', 'Mus musculus', 'trachea', \"10x 3' v2\", 'healthy')\n",
      "1d29fd10-c8b3-4611-b0ac-3c578125adbf\n",
      "\t ('cellxgene', 'Mus musculus', 'skin of body', 'Smart-seq2', 'healthy')\n",
      "1efd4700-87dd-4b45-8762-11ba3fea7a65\n",
      "\t ('cellxgene', 'Mus musculus', 'heart', 'Smart-seq2', 'healthy')\n",
      "1fe63353-9e75-4824-aa30-ed8d84be748c\n",
      "\t ('cellxgene', 'Mus musculus', 'heart', \"10x 3' v2\", 'healthy')\n",
      "8f1bc86b-7976-4826-8602-f5266160ad86\n",
      "\t ('cellxgene', 'Mus musculus', 'brown adipose tissue', 'Smart-seq2', 'healthy')\n",
      "93966790-bbfa-420f-aa85-bc5ca51d9c96\n",
      "\t ('cellxgene', 'Mus musculus', 'bladder lumen', \"10x 3' v2\", 'healthy')\n",
      "2491629a-bde0-46ad-a073-e34fcb516857\n",
      "\t ('cellxgene', 'Mus musculus', 'large intestine', 'Smart-seq2', 'healthy')\n",
      "98ad5247-68f8-42f8-b8e5-7938cb373a91\n",
      "\t ('cellxgene', 'Mus musculus', 'tongue', \"10x 3' v2\", 'healthy')\n",
      "98e5ea9f-16d6-47ec-a529-686e76515e39\n",
      "\t ('cellxgene', 'Mus musculus', 'aorta', 'Smart-seq2', 'healthy')\n",
      "a6626b73-a0de-4dee-99aa-2559ab05af11\n",
      "\t ('cellxgene', 'Mus musculus', 'gonadal fat pad', 'Smart-seq2', 'healthy')\n",
      "a7ace090-1ba1-47f2-8def-6e11298b7816\n",
      "\t ('cellxgene', 'Mus musculus', 'limb muscle', \"10x 3' v2\", 'healthy')\n",
      "b8c618e5-4b3d-4566-8a3f-7e40047f5c54\n",
      "\t ('cellxgene', 'Mus musculus', 'kidney', \"10x 3' v2\", 'healthy')\n",
      "bc7466d7-ff13-4ff2-9c3d-7a1d208bd492\n",
      "\t ('cellxgene', 'Mus musculus', 'mammary gland', 'Smart-seq2', 'healthy')\n",
      "bf12f9c6-4211-4c91-9c71-22019f29f516\n",
      "\t ('cellxgene', 'Mus musculus', 'bladder lumen', 'Smart-seq2', 'healthy')\n",
      "c08f8441-4a10-4748-872a-e70c0bcccdba\n",
      "\t ('cellxgene', 'Mus musculus', 'brain', 'Smart-seq2', 'healthy')\n",
      "c2878000-d3f0-4d30-9a8a-2139a13c72f8\n",
      "\t ('cellxgene', 'Mus musculus', 'subcutaneous adipose tissue', 'Smart-seq2', 'healthy')\n",
      "ec6c52b8-3368-4f72-a416-1ade0dab97bf\n",
      "\t ('cellxgene', 'Mus musculus', 'limb muscle', 'Smart-seq2', 'healthy')\n",
      "c9096ac4-ea44-4cf9-82f4-af05cb83eb24\n",
      "\t ('cellxgene', 'Mus musculus', 'tongue', 'Smart-seq2', 'healthy')\n",
      "cbd62079-bed8-4aa1-9659-670f9cb51f9d\n",
      "\t ('cellxgene', 'Mus musculus', 'diaphragm', 'Smart-seq2', 'healthy')\n",
      "db55b719-6102-493a-9251-404bc501d0de\n",
      "\t ('cellxgene', 'Mus musculus', 'bone marrow', 'Smart-seq2', 'healthy')\n",
      "e3b8c485-7811-407e-99ed-c7d574be9d7c\n",
      "\t ('cellxgene', 'Mus musculus', 'pancreas', 'Smart-seq2', 'healthy')\n",
      "e80d4e1c-672f-496a-8f32-37eab34f727d\n",
      "\t ('cellxgene', 'Mus musculus', 'spleen', 'Smart-seq2', 'healthy')\n",
      "ef47280b-3e68-4188-a49a-7b8374c8a6f2\n",
      "\t ('cellxgene', 'Mus musculus', 'pancreas', \"10x 3' v2\", 'healthy')\n",
      "ae4f8ddd-cac9-4172-9681-2175da462f2e\n",
      "\t ('cellxgene', 'Homo sapiens', 'parietal cortex', \"10x 3' v2\", 'healthy')\n",
      "f7c1c579-2dc0-47e2-ba19-8165c5a0e353\n",
      "\t ('cellxgene', 'Homo sapiens', 'adrenal gland', 'sci-RNA-seq', 'healthy')\n",
      "fa27492b-82ff-4ab7-ac61-0e2b184eee67\n",
      "\t ('cellxgene', 'Homo sapiens', 'adrenal gland', 'sci-RNA-seq', 'healthy')\n",
      "4ebe33a1-c8ba-4238-9724-bd8b3a977521\n",
      "\t ('cellxgene', 'Homo sapiens', 'renal medulla', 'Slide-seq', 'healthy')\n",
      "a5ecb41a-d1e8-4d6a-954c-30472a2f1007\n",
      "\t ('cellxgene', 'Homo sapiens', 'cortex of kidney', 'Slide-seq', 'healthy')\n",
      "88b7da92-178d-4f27-bc18-b0165b256c67\n",
      "\t ('cellxgene', 'Homo sapiens', 'renal medulla', 'Slide-seq', 'healthy')\n",
      "5c451b91-eb50-47f9-a268-467018a09023\n",
      "\t ('cellxgene', 'Homo sapiens', 'cortex of kidney', 'Slide-seq', 'healthy')\n",
      "3679ae7d-d70e-4c09-a8bb-78b8ae1006ff\n",
      "\t ('cellxgene', 'Homo sapiens', 'cortex of kidney', 'Slide-seq', 'healthy')\n",
      "b627552d-c205-4ab3-b440-e08b3271d372\n",
      "\t ('cellxgene', 'Homo sapiens', 'renal medulla', 'Slide-seq', 'healthy')\n",
      "ff77ee42-ed01-4e50-8413-4cea1f6fbcbc\n",
      "\t ('cellxgene', 'Homo sapiens', 'cortex of kidney', 'Slide-seq', 'healthy')\n",
      "2d4998cf-bd56-4e59-b57d-a04682a36ab1\n",
      "\t ('cellxgene', 'Homo sapiens', 'renal medulla', 'Slide-seq', 'healthy')\n",
      "0738f538-ff2f-4346-b2eb-72704c291188\n",
      "\t ('cellxgene', 'Homo sapiens', 'cortex of kidney', 'Slide-seq', 'healthy')\n",
      "0737011b-45a6-49f6-8b5a-b85c35160bac\n",
      "\t ('cellxgene', 'Homo sapiens', 'renal medulla', 'Slide-seq', 'healthy')\n",
      "0d049f5a-19b1-4055-a377-011a9570032c\n",
      "\t ('cellxgene', 'Homo sapiens', 'renal medulla', 'Slide-seq', 'healthy')\n",
      "0f68a90c-afc0-46dc-ad88-cf63a9fc5b56\n",
      "\t ('cellxgene', 'Homo sapiens', 'renal medulla', 'Slide-seq', 'healthy')\n",
      "28ab6eb8-dfa4-4536-9f26-7e06c1b98e8e\n",
      "\t ('cellxgene', 'Homo sapiens', 'cortex of kidney', 'Slide-seq', 'healthy')\n",
      "141b77bf-65b5-47d3-b860-d9ef25caa0e0\n",
      "\t ('cellxgene', 'Homo sapiens', 'cortex of kidney', 'Slide-seq', 'healthy')\n",
      "3bf0da2c-f0d7-4078-a152-d6a4f97ea43f\n",
      "\t ('cellxgene', 'Homo sapiens', 'cortex of kidney', 'Slide-seq', 'healthy')\n",
      "43600c3c-6aa4-490a-bf80-bd74a52edfa4\n",
      "\t ('cellxgene', 'Homo sapiens', 'cortex of kidney', 'Slide-seq', 'healthy')\n",
      "4d31941b-7abc-4963-bf0c-2021998bc3bc\n",
      "\t ('cellxgene', 'Homo sapiens', 'cortex of kidney', 'Slide-seq', 'healthy')\n",
      "51e353b3-c8fe-4e8c-b912-e75c9bc28a66\n",
      "\t ('cellxgene', 'Homo sapiens', 'cortex of kidney', 'Slide-seq', 'healthy')\n",
      "53ea4f06-0319-4b13-8e9d-e2581023aab7\n",
      "\t ('cellxgene', 'Homo sapiens', 'renal medulla', 'Slide-seq', 'healthy')\n",
      "55158af8-7de6-48d5-8aa3-0088ebd7cd4a\n",
      "\t ('cellxgene', 'Homo sapiens', 'renal medulla', 'Slide-seq', 'healthy')\n",
      "5f84ba14-4431-4d49-a88f-514cad5a30c8\n",
      "\t ('cellxgene', 'Homo sapiens', 'renal medulla', 'Slide-seq', 'healthy')\n",
      "6a7c4462-334e-45a4-8aa4-28d3733bbbac\n",
      "\t ('cellxgene', 'Homo sapiens', 'renal medulla', 'Slide-seq', 'healthy')\n",
      "6d62fc4d-052e-4bb4-92ed-55785502a02c\n",
      "\t ('cellxgene', 'Homo sapiens', 'renal medulla', 'Slide-seq', 'healthy')\n",
      "6ebb6e9b-efd0-4e02-a49a-4bf3c732203b\n",
      "\t ('cellxgene', 'Homo sapiens', 'renal medulla', 'Slide-seq', 'healthy')\n",
      "34cb364a-c405-478e-8cdd-48a69ae5c5b4\n",
      "\t ('cellxgene', 'Homo sapiens', 'cortex of kidney', 'Slide-seq', 'healthy')\n",
      "7139f99f-c610-43b8-bb06-4280acb1c987\n",
      "\t ('cellxgene', 'Homo sapiens', 'cortex of kidney', 'Slide-seq', 'healthy')\n",
      "7f479f74-5a7e-4666-9f0d-3af0b341eb0d\n",
      "\t ('cellxgene', 'Homo sapiens', 'cortex of kidney', 'Slide-seq', 'healthy')\n",
      "8c275f25-d8d9-40b2-a81d-498bf89c4677\n",
      "\t ('cellxgene', 'Homo sapiens', 'renal medulla', 'Slide-seq', 'healthy')\n",
      "8c6f14c0-6162-4c2e-971f-510d7b766d7c\n",
      "\t ('cellxgene', 'Homo sapiens', 'cortex of kidney', 'Slide-seq', 'healthy')\n",
      "90ef2377-e4d0-41c7-924f-6f9ee7a9237d\n",
      "\t ('cellxgene', 'Homo sapiens', 'cortex of kidney', 'Slide-seq', 'healthy')\n",
      "0ae96eac-ff08-4870-9bc3-cd12418af7e4\n",
      "\t ('cellxgene', 'Homo sapiens', 'cortex of kidney', 'Slide-seq', 'healthy')\n",
      "99c400af-2a21-4937-9b84-cc1e52f7ba09\n",
      "\t ('cellxgene', 'Homo sapiens', 'renal medulla', 'Slide-seq', 'healthy')\n",
      "9df7a9ce-4298-4d65-9e89-33d83ac8bb69\n",
      "\t ('cellxgene', 'Homo sapiens', 'renal medulla', 'Slide-seq', 'healthy')\n",
      "a1e16320-801b-4d0a-b60d-ebf9b4130bb4\n",
      "\t ('cellxgene', 'Homo sapiens', 'cortex of kidney', 'Slide-seq', 'healthy')\n",
      "a5a6c83a-3afe-4a87-8c32-691118c46e51\n",
      "\t ('cellxgene', 'Homo sapiens', 'renal medulla', 'Slide-seq', 'healthy')\n",
      "c2dec445-4116-4b6d-9253-a73f9516460f\n",
      "\t ('cellxgene', 'Homo sapiens', 'renal medulla', 'Slide-seq', 'healthy')\n",
      "02f8bb42-0322-4906-b9ad-b92a5ce73a2d\n",
      "\t ('cellxgene', 'Homo sapiens', 'cortex of kidney', 'Slide-seq', 'healthy')\n",
      "c97f9167-f7f7-40d4-babf-a47663290c09\n",
      "\t ('cellxgene', 'Homo sapiens', 'renal medulla', 'Slide-seq', 'healthy')\n",
      "cb97280b-1c7c-4c55-a921-481062abd9f7\n",
      "\t ('cellxgene', 'Homo sapiens', 'renal medulla', 'Slide-seq', 'healthy')\n",
      "d98ea49e-b70d-4434-b850-bbe217c9b66e\n",
      "\t ('cellxgene', 'Homo sapiens', 'renal medulla', 'Slide-seq', 'healthy')\n",
      "dd49aae6-274c-4d8b-9bf6-025627fdf39e\n",
      "\t ('cellxgene', 'Homo sapiens', 'cortex of kidney', 'Slide-seq', 'healthy')\n",
      "deb385b8-8030-42a4-af1f-aa28932c7344\n",
      "\t ('cellxgene', 'Homo sapiens', 'cortex of kidney', 'Slide-seq', 'healthy')\n",
      "df4f1358-4a19-44f5-b136-bc7274c29789\n",
      "\t ('cellxgene', 'Homo sapiens', 'renal medulla', 'Slide-seq', 'healthy')\n",
      "e6722845-9377-4b34-80a2-7921921e1396\n",
      "\t ('cellxgene', 'Homo sapiens', 'cortex of kidney', 'Slide-seq', 'healthy')\n",
      "f425376b-bc86-44fd-936f-c43c0c64bf4f\n",
      "\t ('cellxgene', 'Homo sapiens', 'cortex of kidney', 'Slide-seq', 'healthy')\n",
      "3a15ab1c-c36c-4842-9a3e-47e6ffd0ba6f\n",
      "\t ('cellxgene', 'Mus musculus', 'primary visual cortex', 'Smart-seq', 'healthy')\n",
      "85c60876-7f35-40c5-a256-7808d84c6ba5\n",
      "\t ('cellxgene', 'Homo sapiens', 'prefrontal cortex', \"10x 3' v2\", 'Alzheimer disease')\n",
      "9813a1d4-d107-459e-9b2e-7687be935f69\n",
      "\t ('cellxgene', 'Homo sapiens', 'prefrontal cortex', \"10x 3' v2\", 'Alzheimer disease')\n",
      "30cd5311-6c09-46c9-94f1-71fe4b91813c\n",
      "\t ('cellxgene', 'Homo sapiens', 'blood', \"10x 5' v1\", 'COVID-19')\n",
      "21d3e683-80a4-4d9b-bc89-ebb2df513dde\n",
      "\t ('cellxgene', 'Homo sapiens', 'blood', \"10x 5' v1\", 'COVID-19')\n",
      "53d208b0-2cfd-4366-9866-c3c6114081bc\n",
      "\t ('cellxgene', 'Homo sapiens', 'adipose tissue', \"10x 3' v3\", 'healthy')\n",
      "5a11f879-d1ef-458a-910c-9b0bdfca5ebf\n",
      "\t ('cellxgene', 'Homo sapiens', 'adipose tissue', \"10x 3' v3\", 'healthy')\n",
      "97a17473-e2b1-4f31-a544-44a60773e2dd\n",
      "\t ('cellxgene', 'Homo sapiens', 'bladder organ', \"10x 3' v3\", 'healthy')\n",
      "a68b64d8-aee3-4947-81b7-36b8fe5a44d2\n",
      "\t ('cellxgene', 'Homo sapiens', 'adipose tissue', \"10x 3' v3\", 'healthy')\n",
      "c5d88abe-f23a-45fa-a534-788985e93dad\n",
      "\t ('cellxgene', 'Homo sapiens', 'adipose tissue', \"10x 3' v3\", 'healthy')\n",
      "c7775e88-49bf-4ba2-a03b-93f00447c958\n",
      "\t ('cellxgene', 'Homo sapiens', 'blood', \"10x 3' transcription profiling\", 'COVID-19')\n",
      "7bdddd90-9428-47e2-bb80-e77d8b1cc96e\n",
      "\t ('cellxgene', 'Mus musculus', 'anterior olfactory nucleus', 'snmC-seq', 'healthy')\n",
      "ccda558a-27d5-4c58-bb79-2c079abe059f\n",
      "\t ('cellxgene', 'Mus musculus', 'anterior olfactory nucleus', 'snmC-seq', 'healthy')\n",
      "86b37b3c-1e5e-46a9-aecc-2d95b6a38d4b\n",
      "\t ('cellxgene', 'Homo sapiens', 'frontal cortex', 'Patch-seq', 'brain neoplasm')\n",
      "774c18c5-efa1-4dc5-9e5e-2c824bab2e34\n",
      "\t ('cellxgene', 'Homo sapiens', 'cerebral cortex', 'Smart-seq2', 'glioblastoma (disease)')\n",
      "26ae14da-9e5f-4d18-abae-18a5a328feef\n",
      "\t ('cellxgene', 'Mus musculus', 'peripheral lymph node', \"10x 3' v2\", 'lymphadenitis (disease)')\n",
      "cfa3c355-ee77-4fc8-9a00-78e61d23024c\n",
      "\t ('cellxgene', 'Homo sapiens', 'cervical lymph node', \"10x 3' v2\", 'healthy')\n",
      "456e8b9b-f872-488b-871d-94534090a865\n",
      "\t ('cellxgene', 'Homo sapiens', 'blood', 'Seq-Well', 'COVID-19')\n",
      "59b69042-47c2-47fd-ad03-d21beb99818f\n",
      "\t ('cellxgene', 'Homo sapiens', 'blood', \"10x 3' v3\", 'COVID-19')\n",
      "5e717147-0f75-4de1-8bd2-6fda01b8d75f\n",
      "\t ('cellxgene', 'Homo sapiens', 'blood', \"10x 3' v2\", 'COVID-19')\n",
      "96a3f64b-0ee9-40d8-91e9-813ce38261c9\n",
      "\t ('cellxgene', 'Homo sapiens', 'blood', \"10x 3' v2\", 'COVID-19')\n",
      "4c4cd77c-8fee-4836-9145-16562a8782fe\n",
      "\t ('cellxgene', 'Homo sapiens', 'blood', \"10x 3' v3\", 'COVID-19')\n",
      "055ca631-6ffb-40de-815e-b931e10718c0\n",
      "\t ('cellxgene', 'Homo sapiens', 'blood', 'Seq-Well', 'COVID-19')\n",
      "ae5341b8-60fb-4fac-86db-86e49ee66287\n",
      "\t ('cellxgene', 'Homo sapiens', 'blood', \"10x 3' v2\", 'COVID-19')\n",
      "bc2a7b3d-f04e-477e-96c9-9d5367d5425c\n",
      "\t ('cellxgene', 'Homo sapiens', 'blood', \"10x 3' v3\", 'COVID-19')\n",
      "d9b4bc69-ed90-4f5f-99b2-61b0681ba436\n",
      "\t ('cellxgene', 'Homo sapiens', 'blood', \"10x 3' v2\", 'COVID-19')\n",
      "db0752b9-f20e-40b8-8997-992f3ae0bb2e\n",
      "\t ('cellxgene', 'Homo sapiens', 'blood', \"10x 3' v2\", 'COVID-19')\n",
      "e763ed0d-0e5a-4b8e-9514-6da3d9e47956\n",
      "\t ('cellxgene', 'Homo sapiens', 'blood', \"10x 3' v2\", 'COVID-19')\n",
      "e2a3c32d-71e2-4f38-b19c-dfcb8729cf46\n",
      "\t ('cellxgene', 'Homo sapiens', 'peripheral zone of prostate', \"10x 3' v2\", 'healthy')\n",
      "ea426edb-4e86-4c53-ab17-5b952d94a31e\n",
      "\t ('cellxgene', 'Homo sapiens', 'peripheral zone of prostate', \"10x 3' v2\", 'healthy')\n",
      "c3fe3c1e-5bf8-4678-b74a-79899243ad41\n",
      "\t ('cellxgene', 'Homo sapiens', 'peripheral zone of prostate', \"10x 3' v2\", 'healthy')\n",
      "42b6a476-c51d-4f8b-b68b-44941b3a11bf\n",
      "\t ('cellxgene', 'Homo sapiens', 'mesenteric artery', \"10x 3' v3\", 'healthy')\n",
      "6cda3b13-7257-45b9-ac20-0a7e6697e4f2\n",
      "\t ('cellxgene', 'Homo sapiens', None, \"10x 3' v2\", 'healthy')\n",
      "df287f8d-f50d-4620-ab96-489d559e6adc\n",
      "\t ('cellxgene', 'Homo sapiens', 'peripheral zone of prostate', \"10x 3' v2\", 'benign prostatic hyperplasia (disease)')\n",
      "20634fa3-f3cf-44b5-8bc3-b825610bfe8c\n",
      "\t ('cellxgene', 'Mus musculus', 'prostate gland', \"10x 3' v2\", 'healthy')\n",
      "2aef80da-acb4-4e15-8f7d-6c0322b86b2f\n",
      "\t ('cellxgene', 'Mus musculus', 'prostate gland', \"10x 3' v2\", 'healthy')\n",
      "88c483bf-477d-4be5-90d3-4fb101dd601f\n",
      "\t ('cellxgene', 'Homo sapiens', 'peripheral zone of prostate', \"10x 3' v2\", 'benign prostatic hyperplasia (disease)')\n",
      "8b2e5453-faf7-46ea-9073-aea69b283cb7\n",
      "\t ('cellxgene', 'Homo sapiens', 'peripheral zone of prostate', \"10x 3' v2\", 'benign prostatic hyperplasia (disease)')\n",
      "a810e511-c18b-4b2a-8fdf-98a6a0d433a7\n",
      "\t ('cellxgene', 'Mus musculus', 'prostate gland', \"10x 3' v2\", 'healthy')\n",
      "e0ed3c55-aff6-4bb7-b6ff-98a2d90b890c\n",
      "\t ('cellxgene', 'Mus musculus', 'cerebellum', \"10x 3' v3\", 'healthy')\n"
     ]
    }
   ],
   "source": [
    "dsg.show_summary()"
   ]
  },
  {
   "cell_type": "markdown",
   "id": "cd4f7faf",
   "metadata": {},
   "source": [
    "We can also look at properties of each collection (data set group), such as its ID:"
   ]
  },
  {
   "cell_type": "code",
   "execution_count": 5,
   "id": "d8cc9f2e",
   "metadata": {},
   "outputs": [
    {
     "name": "stdout",
     "output_type": "stream",
     "text": [
      "['51544e44-293b-4c2b-8c26-560678423380', '6e8c5415-302c-492a-a5f9-f29c57ff18fb', '0a839c4b-10d0-4d64-9272-684c49a2c8ba', '2a79d190-a41e-4408-88c8-ac5c4d03c0fc', '45f0f67d-4b69-4a3c-a4e8-a63b962e843f', 'd0e9c47b-4ce7-4f84-b182-eddcfa0b2658', '4b54248f-2165-477c-a027-dd55082e8818', 'c9706a92-0e5f-46c1-96d8-20e42467f287', '180bff9c-c8a5-4539-b13b-ddbc00d643e6', '5e469121-c203-4775-962d-dcf2e5d6a472', '4f889ffc-d4bc-4748-905b-8eb9db47a2ed', '367d95c0-0eb0-4dae-8276-9407239421ee', '9b02383a-9358-4f0f-9795-a891ec523bcc', 'cdfb9ead-cb58-4a53-879d-5e4ed5329e73', '7d7cabfd-1d1f-40af-96b7-26a0825a306d', '625f6bf4-2f33-4942-962e-35243d284837', '44531dd9-1388-4416-a117-af0a99de2294', '48d354f5-a5ca-4f35-a3bb-fa3687502252', '00109df5-7810-4542-8db5-2288c46e0424', '5d445965-6f1a-4b68-ba3a-b8f765155d3a', 'af893e86-8e9f-41f1-a474-ef05359b1fb7', '24d42e5e-ce6d-45ff-a66b-a3b3b715deaf', '2f75d249-1bec-459b-bf2b-b86221097ced', 'a238e9fa-2bdf-41df-8522-69046f99baff', '38833785-fac5-48fd-944a-0f62a4c23ed1', '9132fae8-bdfe-480f-9e45-45bc77f320b3', 'ae1420fe-6630-46ed-8b3d-cc6056a66467', 'b52eb423-5d0d-4645-b217-e1c6d38b2e72', '436154da-bcf1-4130-9c8b-120ff9a888f2', '60358420-6055-411d-ba4f-e8ac80682a2e', 'fcb3d1c1-03d2-41ac-8229-458e072b7a1c', '0b9d8a04-bb9d-44da-aa27-705bb65b54eb', 'c8565c6a-01a1-435b-a549-f11b452a83a8', 'c114c20f-1ef4-49a5-9c2e-d965787fb90c', '8e880741-bf9a-4c8e-9227-934204631d2a', 'a3c37598-b8e8-47db-92a9-eb91a77c9529', 'b953c942-f5d8-434f-9da7-e726ba7c1481', 'ed9185e3-5b82-40c7-9824-b2141590c7f0', 'e5f58829-1a66-40b5-a624-9046778e74f5', 'ddfad306-714d-4cc0-9985-d9072820c530', '37f1f46d-6dfa-482c-9b17-d5850d8536f6', '4f586cb6-972b-4ef7-a4ef-3c3800a3c004', '558385a4-b7b7-4eca-af0c-9e54d010e8dc', '9c8808ce-1138-4dbe-818c-171cff10e650', 'a72afd53-ab92-4511-88da-252fb0e26b9a', 'b9fc3d70-5a72-4479-a046-c2cc1ab19efc', 'e2a4a67f-6a18-431a-ab9c-6e77dd31cc80', 'db468083-041c-41ca-8f6f-bf991a070adf', 'fbc5881f-1ee3-4ffe-8095-35e15e1a08fc', 'f70ebd97-b3bc-44fe-849d-c18e08fe773d']\n"
     ]
    }
   ],
   "source": [
    "print([x.collection_id for x in dsg.dataset_groups])"
   ]
  },
  {
   "cell_type": "markdown",
   "id": "d5902bf3",
   "metadata": {},
   "source": [
    "We will choose one collection for now to keep download time low, you can select any number of collections in parallel though or even entirely skip subsetting and directly download the entire cellxgene databse. Note that all h5ad files will be saved into `cache_path`so make sure to plan enough storage on that partition!"
   ]
  },
  {
   "cell_type": "code",
   "execution_count": 6,
   "id": "fc5cbc0d",
   "metadata": {},
   "outputs": [],
   "source": [
    "target_collections = [\"9c8808ce-1138-4dbe-818c-171cff10e650\"]"
   ]
  },
  {
   "cell_type": "markdown",
   "id": "ef5fff29",
   "metadata": {},
   "source": [
    "Note that this collection is also described on the website `https://cellxgene.cziscience.com/collections/{target_collections[i]}`,  ie: https://cellxgene.cziscience.com/collections/9c8808ce-1138-4dbe-818c-171cff10e650"
   ]
  },
  {
   "cell_type": "code",
   "execution_count": 7,
   "id": "efb1798e",
   "metadata": {},
   "outputs": [],
   "source": [
    "dsg.subset(key=\"collection_id\", values=target_collections)"
   ]
  },
  {
   "cell_type": "markdown",
   "id": "b9702aae",
   "metadata": {},
   "source": [
    "Let's briefly check that this subsetting did indeed leave us with one collection:"
   ]
  },
  {
   "cell_type": "code",
   "execution_count": 8,
   "id": "379c48a2",
   "metadata": {},
   "outputs": [
    {
     "data": {
      "text/plain": [
       "{'26ae14da-9e5f-4d18-abae-18a5a328feef': <sfaira.data.dataloaders.databases.cellxgene.cellxgene_loader.Dataset at 0x7fb7b1190a00>,\n",
       " 'cfa3c355-ee77-4fc8-9a00-78e61d23024c': <sfaira.data.dataloaders.databases.cellxgene.cellxgene_loader.Dataset at 0x7fb7b1190250>}"
      ]
     },
     "execution_count": 8,
     "metadata": {},
     "output_type": "execute_result"
    }
   ],
   "source": [
    "dsg.datasets"
   ]
  },
  {
   "cell_type": "markdown",
   "id": "e9a46414",
   "metadata": {},
   "source": [
    "Note that `9c8808ce-1138-4dbe-818c-171cff10e650` is a collection, it corresponds to on study or project and represents two datasets here!"
   ]
  },
  {
   "cell_type": "markdown",
   "id": "8a771e4b",
   "metadata": {},
   "source": [
    "Now, we can proceed to download all selected collections:"
   ]
  },
  {
   "cell_type": "code",
   "execution_count": 9,
   "id": "f66d91ff",
   "metadata": {},
   "outputs": [],
   "source": [
    "dsg.download()"
   ]
  },
  {
   "cell_type": "markdown",
   "id": "922342c2",
   "metadata": {},
   "source": [
    "You can check the downloaded files out you cache directory if you like!"
   ]
  },
  {
   "cell_type": "code",
   "execution_count": 10,
   "id": "bcf223d1",
   "metadata": {},
   "outputs": [
    {
     "data": {
      "text/plain": [
       "['9c8808ce-1138-4dbe-818c-171cff10e650']"
      ]
     },
     "execution_count": 10,
     "metadata": {},
     "output_type": "execute_result"
    }
   ],
   "source": [
    "os.listdir(cache_path)"
   ]
  },
  {
   "cell_type": "markdown",
   "id": "06e4105e",
   "metadata": {},
   "source": [
    "Because we are using a defined cache directory, the next time we try downloading this data set, the command will return directly because the dataset is already there:"
   ]
  },
  {
   "cell_type": "code",
   "execution_count": 11,
   "id": "f4b16794",
   "metadata": {},
   "outputs": [],
   "source": [
    "dsg.download()"
   ]
  },
  {
   "cell_type": "markdown",
   "id": "de3d6e54",
   "metadata": {},
   "source": [
    "# Usage of downloads"
   ]
  },
  {
   "cell_type": "markdown",
   "id": "6b27c85c",
   "metadata": {},
   "source": [
    "Next, we can load the selected collections from your disk into memory to access the adata object, for example!"
   ]
  },
  {
   "cell_type": "code",
   "execution_count": 12,
   "id": "d1361c20",
   "metadata": {},
   "outputs": [
    {
     "name": "stdout",
     "output_type": "stream",
     "text": [
      "loading 26ae14da-9e5f-4d18-abae-18a5a328feef\n",
      "loading cfa3c355-ee77-4fc8-9a00-78e61d23024c\n"
     ]
    }
   ],
   "source": [
    "dsg.load()"
   ]
  },
  {
   "cell_type": "markdown",
   "id": "5beb474b",
   "metadata": {},
   "source": [
    "We can access the list of all adatas associated with this collection or specifically query individual ones frmo the sfaira `dsg` object:"
   ]
  },
  {
   "cell_type": "code",
   "execution_count": 13,
   "id": "6bbefb67",
   "metadata": {},
   "outputs": [
    {
     "data": {
      "text/plain": [
       "[AnnData object with n_obs × n_vars = 5625 × 14872\n",
       "     obs: 'sample_strain', 'tissue_ontology_term_id', 'disease_ontology_term_id', 'cell_type_ontology_term_id', 'phase', 'nUMI', 'nGene', 'assay_ontology_term_id', 'cell_type_original', 'ethnicity_ontology_term_id', 'development_stage_ontology_term_id', 'sex_ontology_term_id', 'is_primary_data', 'organism_ontology_term_id', 'cell_type', 'assay', 'disease', 'organism', 'sex', 'tissue', 'ethnicity', 'development_stage'\n",
       "     var: 'feature_biotype', 'feature_is_filtered', 'feature_name', 'feature_reference'\n",
       "     uns: 'X_normalization', 'contributors', 'default_embedding', 'layer_descriptions', 'preprint_doi', 'publication_doi', 'schema_version', 'title'\n",
       "     obsm: 'X_tSpace', 'X_tUMAP',\n",
       " AnnData object with n_obs × n_vars = 4355 × 14989\n",
       "     obs: 'tissue_ontology_term_id', 'disease_ontology_term_id', 'cell_type_ontology_term_id', 'ethnicity_ontology_term_id', 'phase', 'nUMI', 'nGene', 'assay_ontology_term_id', 'cell_type_original', 'development_stage_ontology_term_id', 'sex_ontology_term_id', 'is_primary_data', 'organism_ontology_term_id', 'cell_type', 'assay', 'disease', 'organism', 'sex', 'tissue', 'ethnicity', 'development_stage'\n",
       "     var: 'feature_biotype', 'feature_is_filtered', 'feature_name', 'feature_reference'\n",
       "     uns: 'X_normalization', 'contributors', 'default_embedding', 'layer_descriptions', 'preprint_doi', 'publication_doi', 'schema_version', 'title'\n",
       "     obsm: 'X_UMAP', 'X_tSpace']"
      ]
     },
     "execution_count": 13,
     "metadata": {},
     "output_type": "execute_result"
    }
   ],
   "source": [
    "adatas = dsg.adata_ls\n",
    "adatas"
   ]
  },
  {
   "cell_type": "code",
   "execution_count": 14,
   "id": "eb99ced8",
   "metadata": {},
   "outputs": [
    {
     "data": {
      "text/plain": [
       "AnnData object with n_obs × n_vars = 5625 × 14872\n",
       "    obs: 'sample_strain', 'tissue_ontology_term_id', 'disease_ontology_term_id', 'cell_type_ontology_term_id', 'phase', 'nUMI', 'nGene', 'assay_ontology_term_id', 'cell_type_original', 'ethnicity_ontology_term_id', 'development_stage_ontology_term_id', 'sex_ontology_term_id', 'is_primary_data', 'organism_ontology_term_id', 'cell_type', 'assay', 'disease', 'organism', 'sex', 'tissue', 'ethnicity', 'development_stage'\n",
       "    var: 'feature_biotype', 'feature_is_filtered', 'feature_name', 'feature_reference'\n",
       "    uns: 'X_normalization', 'contributors', 'default_embedding', 'layer_descriptions', 'preprint_doi', 'publication_doi', 'schema_version', 'title'\n",
       "    obsm: 'X_tSpace', 'X_tUMAP'"
      ]
     },
     "execution_count": 14,
     "metadata": {},
     "output_type": "execute_result"
    }
   ],
   "source": [
    "adata = dsg.datasets[\"26ae14da-9e5f-4d18-abae-18a5a328feef\"].adata\n",
    "adata"
   ]
  },
  {
   "cell_type": "markdown",
   "id": "8126de57",
   "metadata": {},
   "source": [
    "You can also use anndata and a manually assembled path to load these objects:"
   ]
  },
  {
   "cell_type": "code",
   "execution_count": 15,
   "id": "38351b82",
   "metadata": {},
   "outputs": [
    {
     "data": {
      "text/plain": [
       "AnnData object with n_obs × n_vars = 5625 × 14872\n",
       "    obs: 'sample_strain', 'tissue_ontology_term_id', 'disease_ontology_term_id', 'cell_type_ontology_term_id', 'phase', 'nUMI', 'nGene', 'assay_ontology_term_id', 'cell_type_original', 'ethnicity_ontology_term_id', 'development_stage_ontology_term_id', 'sex_ontology_term_id', 'is_primary_data', 'organism_ontology_term_id', 'cell_type', 'assay', 'disease', 'organism', 'sex', 'tissue', 'ethnicity', 'development_stage'\n",
       "    var: 'feature_biotype', 'feature_is_filtered', 'feature_name', 'feature_reference'\n",
       "    uns: 'X_normalization', 'contributors', 'default_embedding', 'layer_descriptions', 'preprint_doi', 'publication_doi', 'schema_version', 'title'\n",
       "    obsm: 'X_tSpace', 'X_tUMAP'"
      ]
     },
     "execution_count": 15,
     "metadata": {},
     "output_type": "execute_result"
    }
   ],
   "source": [
    "adata2 = anndata.read_h5ad(os.path.join(\n",
    "    cache_path, \n",
    "    \"9c8808ce-1138-4dbe-818c-171cff10e650/26ae14da-9e5f-4d18-abae-18a5a328feef.h5ad\"\n",
    "))\n",
    "adata2"
   ]
  }
 ],
 "metadata": {
  "kernelspec": {
   "display_name": "Python 3 (ipykernel)",
   "language": "python",
   "name": "python3"
  },
  "language_info": {
   "codemirror_mode": {
    "name": "ipython",
    "version": 3
   },
   "file_extension": ".py",
   "mimetype": "text/x-python",
   "name": "python",
   "nbconvert_exporter": "python",
   "pygments_lexer": "ipython3",
   "version": "3.8.11"
  },
  "toc": {
   "base_numbering": 1,
   "nav_menu": {},
   "number_sections": true,
   "sideBar": true,
   "skip_h1_title": false,
   "title_cell": "Table of Contents",
   "title_sidebar": "Contents",
   "toc_cell": false,
   "toc_position": {},
   "toc_section_display": true,
   "toc_window_display": true
  }
 },
 "nbformat": 4,
 "nbformat_minor": 5
}
